{
  "nbformat": 4,
  "nbformat_minor": 0,
  "metadata": {
    "colab": {
      "provenance": []
    },
    "kernelspec": {
      "name": "python3",
      "display_name": "Python 3"
    },
    "language_info": {
      "name": "python"
    }
  },
  "cells": [
    {
      "cell_type": "code",
      "execution_count": null,
      "metadata": {
        "id": "sB0ZMZKUOGPi"
      },
      "outputs": [],
      "source": [
        "import pandas as pd\n",
        "import numpy as np\n"
      ]
    },
    {
      "cell_type": "code",
      "source": [
        "df=pd.read_csv('/content/data.csv')\n",
        "print(df.head())"
      ],
      "metadata": {
        "colab": {
          "base_uri": "https://localhost:8080/"
        },
        "id": "-LjhEbg9SDOD",
        "outputId": "f38b6c5d-973a-4be5-ae33-a24aa8b8f3fa"
      },
      "execution_count": null,
      "outputs": [
        {
          "output_type": "stream",
          "name": "stdout",
          "text": [
            "                                         Poster_Link      Series_Title  \\\n",
            "0  https://m.media-amazon.com/images/M/MV5BYTRiND...   Game of Thrones   \n",
            "1  https://m.media-amazon.com/images/M/MV5BMjhiMz...      Breaking Bad   \n",
            "2  https://m.media-amazon.com/images/M/MV5BMTc5Zm...  The Walking Dead   \n",
            "3  https://m.media-amazon.com/images/M/MV5BNDVkYj...           Friends   \n",
            "4  https://m.media-amazon.com/images/M/MV5BMjEzMD...   Stranger Things   \n",
            "\n",
            "  Runtime_of_Series Certificate Runtime_of_Episodes                     Genre  \\\n",
            "0       (2011–2019)           A              57 min  Action, Adventure, Drama   \n",
            "1       (2008–2013)          18              49 min    Crime, Drama, Thriller   \n",
            "2          (2010– )         18+              44 min   Drama, Horror, Thriller   \n",
            "3       (1994–2004)         13+              22 min           Comedy, Romance   \n",
            "4          (2016– )          15              51 min    Drama, Fantasy, Horror   \n",
            "\n",
            "   IMDB_Rating                                           Overview  \\\n",
            "0          9.3  Nine noble families fight for control over the...   \n",
            "1          9.5  A high school chemistry teacher diagnosed with...   \n",
            "2          8.2  Sheriff Deputy Rick Grimes wakes up from a com...   \n",
            "3          8.9  Follows the personal and professional lives of...   \n",
            "4          8.7  When a young boy disappears, his mother, a pol...   \n",
            "\n",
            "                Star1           Star2            Star3          Star4  \\\n",
            "0       Emilia Clarke  Peter Dinklage    Kit Harington    Lena Headey   \n",
            "1      Bryan Cranston      Aaron Paul        Anna Gunn   Betsy Brandt   \n",
            "2      Andrew Lincoln   Norman Reedus  Melissa McBride   Danai Gurira   \n",
            "3    Jennifer Aniston   Courteney Cox      Lisa Kudrow   Matt LeBlanc   \n",
            "4  Millie Bobby Brown   Finn Wolfhard     Winona Ryder  David Harbour   \n",
            "\n",
            "   No_of_Votes  \n",
            "0      1773458  \n",
            "1      1468887  \n",
            "2       854698  \n",
            "3       829816  \n",
            "4       824966  \n"
          ]
        }
      ]
    },
    {
      "cell_type": "markdown",
      "source": [
        "DATA PREPROCESSING"
      ],
      "metadata": {
        "id": "H5YKXuF8VsTh"
      }
    },
    {
      "cell_type": "code",
      "source": [
        "import pandas as pd\n",
        "missing_values = df.isnull().sum()\n",
        "\n",
        "# Display missing values for each attribute\n",
        "print(\"Missing values in each attribute:\\n\")\n",
        "print(missing_values)"
      ],
      "metadata": {
        "colab": {
          "base_uri": "https://localhost:8080/"
        },
        "id": "uvxE-vIGS_39",
        "outputId": "eb91575a-8cd4-4d8a-e4db-402c6330a98e"
      },
      "execution_count": null,
      "outputs": [
        {
          "output_type": "stream",
          "name": "stdout",
          "text": [
            "Missing values in each attribute:\n",
            "\n",
            "Poster_Link               0\n",
            "Series_Title              0\n",
            "Runtime_of_Series         0\n",
            "Certificate            1297\n",
            "Runtime_of_Episodes      43\n",
            "Genre                     0\n",
            "IMDB_Rating               0\n",
            "Overview                  0\n",
            "Star1                     0\n",
            "Star2                     0\n",
            "Star3                     1\n",
            "Star4                     5\n",
            "No_of_Votes               0\n",
            "dtype: int64\n"
          ]
        }
      ]
    },
    {
      "cell_type": "code",
      "source": [
        "# Step 1: Convert the column to string type (handles NaN as well)\n",
        "df['Runtime_of_Episodes'] = df['Runtime_of_Episodes'].astype(str)\n",
        "\n",
        "# Step 2: Remove the ' min' from the strings\n",
        "df['Runtime_of_Episodes'] = df['Runtime_of_Episodes'].str.replace(' min', '', regex=False)\n",
        "\n",
        "# Step 3: Convert the column to numeric (float or integer), replacing invalid values with NaN\n",
        "df['Runtime_of_Episodes'] = pd.to_numeric(df['Runtime_of_Episodes'], errors='coerce')\n",
        "\n",
        "# Step 4: Impute missing values with the median runtime\n",
        "median_runtime = df['Runtime_of_Episodes'].median()\n",
        "df['Runtime_of_Episodes'].fillna(median_runtime, inplace=True)\n",
        "\n",
        "# Step 5: Check for missing values again\n",
        "missing_values_after = df.isnull().sum()\n",
        "print(\"Missing values after handling:\\n\")\n",
        "print(missing_values_after)\n"
      ],
      "metadata": {
        "colab": {
          "base_uri": "https://localhost:8080/"
        },
        "id": "Guq5B2jBUUd4",
        "outputId": "4cfb69dd-4521-42b2-f82b-045fb85ec005"
      },
      "execution_count": null,
      "outputs": [
        {
          "output_type": "stream",
          "name": "stdout",
          "text": [
            "Missing values after handling:\n",
            "\n",
            "Poster_Link               0\n",
            "Series_Title              0\n",
            "Runtime_of_Series         0\n",
            "Certificate            1297\n",
            "Runtime_of_Episodes       0\n",
            "Genre                     0\n",
            "IMDB_Rating               0\n",
            "Overview                  0\n",
            "Star1                     0\n",
            "Star2                     0\n",
            "Star3                     1\n",
            "Star4                     5\n",
            "No_of_Votes               0\n",
            "dtype: int64\n"
          ]
        },
        {
          "output_type": "stream",
          "name": "stderr",
          "text": [
            "<ipython-input-10-7becc60e4bba>:12: FutureWarning: A value is trying to be set on a copy of a DataFrame or Series through chained assignment using an inplace method.\n",
            "The behavior will change in pandas 3.0. This inplace method will never work because the intermediate object on which we are setting values always behaves as a copy.\n",
            "\n",
            "For example, when doing 'df[col].method(value, inplace=True)', try using 'df.method({col: value}, inplace=True)' or df[col] = df[col].method(value) instead, to perform the operation inplace on the original object.\n",
            "\n",
            "\n",
            "  df['Runtime_of_Episodes'].fillna(median_runtime, inplace=True)\n"
          ]
        }
      ]
    },
    {
      "cell_type": "code",
      "source": [
        "missing_values = df.isnull().sum()\n",
        "\n",
        "# Display missing values for each attribute\n",
        "print(\"Missing values in each attribute:\\n\")\n",
        "print(missing_values)"
      ],
      "metadata": {
        "colab": {
          "base_uri": "https://localhost:8080/"
        },
        "id": "lQ69HcpxVWi7",
        "outputId": "52a73b4b-ea69-4af3-eae4-e27fdb965170"
      },
      "execution_count": null,
      "outputs": [
        {
          "output_type": "stream",
          "name": "stdout",
          "text": [
            "Missing values in each attribute:\n",
            "\n",
            "Poster_Link               0\n",
            "Series_Title              0\n",
            "Runtime_of_Series         0\n",
            "Certificate            1297\n",
            "Runtime_of_Episodes       0\n",
            "Genre                     0\n",
            "IMDB_Rating               0\n",
            "Overview                  0\n",
            "Star1                     0\n",
            "Star2                     0\n",
            "Star3                     1\n",
            "Star4                     5\n",
            "No_of_Votes               0\n",
            "dtype: int64\n"
          ]
        }
      ]
    },
    {
      "cell_type": "code",
      "source": [
        "# Remove rows where Star3 or Star4 have missing values\n",
        "df_cleaned = df.dropna(subset=['Star3', 'Star4'])\n",
        "\n",
        "# Check for remaining missing values in each column\n",
        "missing_values_after = df_cleaned.isnull().sum()\n",
        "\n",
        "# Display the remaining missing values after removal\n",
        "print(\"Missing values in each column after removing rows with missing 'Star3' or 'Star4':\\n\")\n",
        "print(missing_values_after)\n",
        "\n",
        "# View the shape of the cleaned dataframe\n",
        "print(f\"Number of rows and columns after cleaning: {df_cleaned.shape}\")\n",
        "\n",
        "#df = df.drop(columns=['Certificate'])\n"
      ],
      "metadata": {
        "colab": {
          "base_uri": "https://localhost:8080/"
        },
        "id": "POwJ9MCRWw7Y",
        "outputId": "a3813161-b1f3-4d36-9f8f-a7abd09798e8"
      },
      "execution_count": null,
      "outputs": [
        {
          "output_type": "stream",
          "name": "stdout",
          "text": [
            "Missing values in each column after removing rows with missing 'Star3' or 'Star4':\n",
            "\n",
            "Poster_Link               0\n",
            "Series_Title              0\n",
            "Runtime_of_Series         0\n",
            "Certificate            1292\n",
            "Runtime_of_Episodes       0\n",
            "Genre                     0\n",
            "IMDB_Rating               0\n",
            "Overview                  0\n",
            "Star1                     0\n",
            "Star2                     0\n",
            "Star3                     0\n",
            "Star4                     0\n",
            "No_of_Votes               0\n",
            "dtype: int64\n",
            "Number of rows and columns after cleaning: (1995, 13)\n"
          ]
        }
      ]
    },
    {
      "cell_type": "markdown",
      "source": [
        "DATA VISUALIZATION"
      ],
      "metadata": {
        "id": "P-ckM9NeV8-t"
      }
    },
    {
      "cell_type": "code",
      "source": [
        "import numpy as np\n",
        "import pandas as pd\n",
        "import re\n",
        "import string\n",
        "import matplotlib.pyplot as plt\n",
        "import seaborn as sns\n",
        "from collections import Counter\n",
        "\n",
        "%matplotlib inline\n",
        "\n",
        "# Creating a list of all the Genres\n",
        "genre = []\n",
        "for x in df['Genre']:\n",
        "    for y in x.split(','):\n",
        "        genre.append(y.strip().lower())\n",
        "\n",
        "# Finding the Count of these Genres\n",
        "count = Counter(genre)\n",
        "count = count.most_common()[:10]\n",
        "x, y = map(list, zip(*count))\n",
        "\n",
        "# Visualizing the plot\n",
        "plt.figure(figsize=(20, 5))\n",
        "sns.barplot(x=x, y=y, palette='viridis')\n",
        "plt.xlabel('Genre')\n",
        "plt.ylabel('Count')\n",
        "plt.title('Top Ten Genres')\n",
        "plt.xticks(rotation=90)\n",
        "plt.show()\n"
      ],
      "metadata": {
        "colab": {
          "base_uri": "https://localhost:8080/",
          "height": 586
        },
        "id": "mK9iOVOHV_rm",
        "outputId": "c1ceb498-cb57-425a-c4c4-79ab91aeab2f"
      },
      "execution_count": null,
      "outputs": [
        {
          "output_type": "stream",
          "name": "stderr",
          "text": [
            "<ipython-input-7-ce6d2b065de5>:24: FutureWarning: \n",
            "\n",
            "Passing `palette` without assigning `hue` is deprecated and will be removed in v0.14.0. Assign the `x` variable to `hue` and set `legend=False` for the same effect.\n",
            "\n",
            "  sns.barplot(x=x, y=y, palette='viridis')\n"
          ]
        },
        {
          "output_type": "display_data",
          "data": {
            "text/plain": [
              "<Figure size 2000x500 with 1 Axes>"
            ],
            "image/png": "[encoded data removed]"
          },
          "metadata": {}
        }
      ]
    },
    {
      "cell_type": "markdown",
      "source": [
        "FEATURE SELECTION\n"
      ],
      "metadata": {
        "id": "WANxmlMBVwGu"
      }
    },
    {
      "cell_type": "code",
      "source": [
        "df_cleaned['combined_features'] = df_cleaned['Overview'] + ' ' + df_cleaned['Genre'] + ' ' + \\\n",
        "                                  df_cleaned['Star1'].fillna('') + ' ' + df_cleaned['Star2'].fillna('') + ' ' + \\\n",
        "                                  df_cleaned['Star3'].fillna('') + ' ' + df_cleaned['Star4'].fillna('')\n"
      ],
      "metadata": {
        "id": "-EXq0ri8uD0J",
        "colab": {
          "base_uri": "https://localhost:8080/"
        },
        "outputId": "02b2ca7e-99e1-4f2b-cdea-933f6fa07238"
      },
      "execution_count": null,
      "outputs": [
        {
          "output_type": "stream",
          "name": "stderr",
          "text": [
            "<ipython-input-8-9e1af3e33275>:1: SettingWithCopyWarning: \n",
            "A value is trying to be set on a copy of a slice from a DataFrame.\n",
            "Try using .loc[row_indexer,col_indexer] = value instead\n",
            "\n",
            "See the caveats in the documentation: https://pandas.pydata.org/pandas-docs/stable/user_guide/indexing.html#returning-a-view-versus-a-copy\n",
            "  df_cleaned['combined_features'] = df_cleaned['Overview'] + ' ' + df_cleaned['Genre'] + ' ' + \\\n"
          ]
        }
      ]
    },
    {
      "cell_type": "markdown",
      "source": [
        "TF-IDF"
      ],
      "metadata": {
        "id": "jCrMj4QRx_i6"
      }
    },
    {
      "cell_type": "code",
      "source": [
        "from sklearn.feature_extraction.text import TfidfVectorizer\n",
        "\n",
        "tfidf = TfidfVectorizer(stop_words='english')\n",
        "tfidf_matrix = tfidf.fit_transform(df_cleaned['combined_features'])\n",
        "\n",
        "# Check the shape of the TF-IDF matrix\n",
        "print(tfidf_matrix.shape)\n"
      ],
      "metadata": {
        "colab": {
          "base_uri": "https://localhost:8080/"
        },
        "id": "Ep6JrJnzvYJz",
        "outputId": "0729f70c-4d29-48cb-c906-83c564cfaffd"
      },
      "execution_count": null,
      "outputs": [
        {
          "output_type": "stream",
          "name": "stdout",
          "text": [
            "(1995, 14072)\n"
          ]
        }
      ]
    },
    {
      "cell_type": "markdown",
      "source": [
        "COSINE SIMILARITY"
      ],
      "metadata": {
        "id": "LpGjMEdzyBbH"
      }
    },
    {
      "cell_type": "code",
      "source": [
        "from sklearn.metrics.pairwise import cosine_similarity\n",
        "\n",
        "cosine_sim = cosine_similarity(tfidf_matrix, tfidf_matrix)\n",
        "\n",
        "# Check the cosine similarity matrix\n",
        "print(cosine_sim.shape)\n"
      ],
      "metadata": {
        "colab": {
          "base_uri": "https://localhost:8080/"
        },
        "id": "lTESdwtxvdSr",
        "outputId": "758a2fc1-e145-4282-841f-d5dd19bfc7aa"
      },
      "execution_count": null,
      "outputs": [
        {
          "output_type": "stream",
          "name": "stdout",
          "text": [
            "(1995, 1995)\n"
          ]
        }
      ]
    },
    {
      "cell_type": "markdown",
      "source": [
        "CONTENT-BASED RECOMMENDATION"
      ],
      "metadata": {
        "id": "gfTQnovxyDjD"
      }
    },
    {
      "cell_type": "code",
      "source": [
        "import pandas as pd\n",
        "from sklearn.feature_extraction.text import TfidfVectorizer\n",
        "from sklearn.metrics.pairwise import cosine_similarity\n",
        "\n",
        "tfidf = TfidfVectorizer(stop_words='english')\n",
        "tfidf_matrix = tfidf.fit_transform(df_cleaned['combined_features'])\n",
        "cosine_sim = cosine_similarity(tfidf_matrix, tfidf_matrix)\n",
        "# Step 1: Feature Engineering\n",
        "df_cleaned['combined_features'] = df_cleaned['Overview'] + ' ' + df_cleaned['Genre']\n",
        "\n",
        "# Step 2: TF-IDF Vectorization\n",
        "tfidf = TfidfVectorizer(stop_words='english')\n",
        "tfidf_matrix = tfidf.fit_transform(df_cleaned['combined_features'])\n",
        "\n",
        "# Step 3: Cosine Similarity\n",
        "cosine_sim = cosine_similarity(tfidf_matrix, tfidf_matrix)\n",
        "\n",
        "# Step 4: Recommendation Function\n",
        "def get_content_based_recommendations(title, top_n=10):\n",
        "    # Check if the title is in the dataset\n",
        "    if title not in df_cleaned['Series_Title'].values:\n",
        "        return f\"'{title}' is not in the dataset.\"\n",
        "\n",
        "    # Get the index of the given series title\n",
        "    idx = df_cleaned.index[df_cleaned['Series_Title'] == title].tolist()[0]\n",
        "\n",
        "    # Get the pairwise similarity scores of all series with the given series\n",
        "    sim_scores = list(enumerate(cosine_sim[idx]))\n",
        "\n",
        "    # Sort the series based on similarity scores in descending order\n",
        "    sim_scores = sorted(sim_scores, key=lambda x: x[1], reverse=True)\n",
        "\n",
        "    # Get the indices of the top similar series\n",
        "    sim_scores = sim_scores[1:top_n+1]  # Skip the first one as it is the series itself\n",
        "    series_indices = [i[0] for i in sim_scores]\n",
        "\n",
        "    # Get the titles of the recommended series\n",
        "    recommended_series = df_cleaned[['Series_Title']].iloc[series_indices]\n",
        "    recommended_series['Index'] = series_indices\n",
        "    return recommended_series\n"
      ],
      "metadata": {
        "id": "-33u-ltIyISZ",
        "colab": {
          "base_uri": "https://localhost:8080/"
        },
        "outputId": "f6ba875c-3f00-435e-92b0-4e2f8c3d6f60"
      },
      "execution_count": null,
      "outputs": [
        {
          "output_type": "stream",
          "name": "stderr",
          "text": [
            "<ipython-input-11-99c420bbb82b>:9: SettingWithCopyWarning: \n",
            "A value is trying to be set on a copy of a slice from a DataFrame.\n",
            "Try using .loc[row_indexer,col_indexer] = value instead\n",
            "\n",
            "See the caveats in the documentation: https://pandas.pydata.org/pandas-docs/stable/user_guide/indexing.html#returning-a-view-versus-a-copy\n",
            "  df_cleaned['combined_features'] = df_cleaned['Overview'] + ' ' + df_cleaned['Genre']\n"
          ]
        }
      ]
    },
    {
      "cell_type": "code",
      "source": [
        "# Example usage\n",
        "recommendations = get_content_based_recommendations(\"Breaking Bad\")\n",
        "print(\"Recommended Series with Indices:\")\n",
        "print(recommendations)"
      ],
      "metadata": {
        "colab": {
          "base_uri": "https://localhost:8080/"
        },
        "id": "EBmDqXWkyvtF",
        "outputId": "92bc4476-d3ef-4b20-880b-c13900c3ae48"
      },
      "execution_count": null,
      "outputs": [
        {
          "output_type": "stream",
          "name": "stdout",
          "text": [
            "Recommended Series with Indices:\n",
            "              Series_Title  Index\n",
            "1193              Felicity   1190\n",
            "1524                  Rita   1520\n",
            "1416                 Aarya   1412\n",
            "952              The Big C    949\n",
            "1897  Welcome Back, Kotter   1892\n",
            "1232  When Calls the Heart   1228\n",
            "150                  Weeds    150\n",
            "1896          Mr. Iglesias   1891\n",
            "1853        Famous in Love   1848\n",
            "1424  The Magic School Bus   1420\n"
          ]
        }
      ]
    },
    {
      "cell_type": "code",
      "source": [
        "# Example usage\n",
        "recommendations = get_content_based_recommendations(\"Sherlock\")\n",
        "print(\"Recommended Series with Indices:\")\n",
        "print(recommendations)"
      ],
      "metadata": {
        "colab": {
          "base_uri": "https://localhost:8080/"
        },
        "id": "pIKTkxri03MY",
        "outputId": "2d08abf9-8457-47a7-bd8a-92d663b095e6"
      },
      "execution_count": null,
      "outputs": [
        {
          "output_type": "stream",
          "name": "stdout",
          "text": [
            "Recommended Series with Indices:\n",
            "                     Series_Title  Index\n",
            "1456      What's New, Scooby-Doo?   1452\n",
            "1131                   The Royals   1128\n",
            "770             Murder, She Wrote    770\n",
            "341                     Travelers    341\n",
            "155                    Elementary    155\n",
            "1252  The Frankenstein Chronicles   1248\n",
            "995                       Top Boy    992\n",
            "1127                  Whitechapel   1124\n",
            "1447                    Deception   1443\n",
            "739               Gangs of London    739\n"
          ]
        }
      ]
    },
    {
      "cell_type": "code",
      "source": [
        "# Example usage\n",
        "recommendations = get_content_based_recommendations(\"Friends\")\n",
        "print(\"Recommended Series with Indices:\")\n",
        "print(recommendations)"
      ],
      "metadata": {
        "colab": {
          "base_uri": "https://localhost:8080/"
        },
        "id": "WToT22iniKG4",
        "outputId": "5a680ea0-365e-4d4c-97aa-adb7ac65b08d"
      },
      "execution_count": null,
      "outputs": [
        {
          "output_type": "stream",
          "name": "stdout",
          "text": [
            "Recommended Series with Indices:\n",
            "             Series_Title  Index\n",
            "244        Master of None    244\n",
            "510           Ally McBeal    510\n",
            "47         Grey's Anatomy     47\n",
            "688           Derry Girls    688\n",
            "859   The Drew Carey Show    858\n",
            "1973    Good Girls Revolt   1968\n",
            "1989                6Teen   1984\n",
            "1803         The Muppets.   1799\n",
            "769         Queer as Folk    769\n",
            "406          Chicago Fire    406\n"
          ]
        }
      ]
    },
    {
      "cell_type": "markdown",
      "source": [
        "POPULARITY BASED"
      ],
      "metadata": {
        "id": "H5wZAHSlt9wv"
      }
    },
    {
      "cell_type": "code",
      "source": [
        "def get_popularity_based_recommendations(top_n=10):\n",
        "    # Sort shows by IMDb rating and number of votes in descending order\n",
        "    df_popularity = df_cleaned.sort_values(['IMDB_Rating', 'No_of_Votes'], ascending=False)\n",
        "    top_popular_series = df_popularity[['Series_Title', 'IMDB_Rating', 'No_of_Votes']].head(top_n)\n",
        "    return top_popular_series\n",
        "\n",
        "# Get the top 10 popular series\n",
        "top_popular_series = get_popularity_based_recommendations(top_n=10)\n",
        "print(top_popular_series)\n"
      ],
      "metadata": {
        "colab": {
          "base_uri": "https://localhost:8080/"
        },
        "id": "lHBi8wvut8EK",
        "outputId": "c8ec3876-f236-496f-8bc3-b8dd3711ed66"
      },
      "execution_count": null,
      "outputs": [
        {
          "output_type": "stream",
          "name": "stdout",
          "text": [
            "                            Series_Title  IMDB_Rating  No_of_Votes\n",
            "1003                          The Chosen          9.7        13085\n",
            "1                           Breaking Bad          9.5      1468887\n",
            "483                The Filthy Frank Show          9.5        32155\n",
            "844                             Koombiyo          9.5        16391\n",
            "182   Scam 1992: The Harshad Mehta Story          9.4        86565\n",
            "0                        Game of Thrones          9.3      1773458\n",
            "38                              The Wire          9.3       286093\n",
            "1551                       Critical Role          9.3         7353\n",
            "20                        Rick and Morty          9.2       376795\n",
            "34                          The Sopranos          9.2       303082\n"
          ]
        }
      ]
    },
    {
      "cell_type": "code",
      "source": [
        "import pandas as pd\n",
        "from sklearn.metrics.pairwise import cosine_similarity\n",
        "from sklearn.preprocessing import MinMaxScaler\n",
        "# Normalize the numeric data (IMDB_Rating and No_of_Votes)\n",
        "scaler = MinMaxScaler()\n",
        "df[['IMDB_Rating', 'No_of_Votes']] = scaler.fit_transform(df[['IMDB_Rating', 'No_of_Votes']])\n",
        "# Combine the relevant features (IMDB_Rating, No_of_Votes) to create a feature matrix\n",
        "features = df[['IMDB_Rating', 'No_of_Votes']]\n",
        "# Compute cosine similarity between series\n",
        "cosine_sim = cosine_similarity(features)\n",
        "# Function to get recommendations based on the title\n",
        "def get_recommendations(title, cosine_sim=cosine_sim):\n",
        "    # Get the index of the series that matches the title\n",
        "    idx = df[df['Series_Title'] == title].index[0]\n",
        "\n",
        "    # Get the pairwise similarity scores of all series with that series\n",
        "    sim_scores = list(enumerate(cosine_sim[idx]))\n",
        "\n",
        "    # Sort the series based on the similarity scores\n",
        "    sim_scores = sorted(sim_scores, key=lambda x: x[1], reverse=True)\n",
        "\n",
        "    # Get the indices of the top 10 most similar series\n",
        "    sim_scores = sim_scores[1:11]\n",
        "\n",
        "    # Get the series titles\n",
        "    series_indices = [i[0] for i in sim_scores]\n",
        "    return df['Series_Title'].iloc[series_indices]"
      ],
      "metadata": {
        "id": "R6pR8RYUvcTL"
      },
      "execution_count": null,
      "outputs": []
    },
    {
      "cell_type": "code",
      "source": [
        "#Recommendation Segemnt\n",
        "series_name = \"Breaking Bad\"\n",
        "recommended_series = get_recommendations(series_name)\n",
        "print(f\"Recommendations for {series_name}:\")\n",
        "print(recommended_series)"
      ],
      "metadata": {
        "colab": {
          "base_uri": "https://localhost:8080/"
        },
        "id": "0JSMfN-RvnuK",
        "outputId": "87747a3a-6325-4e45-9b0c-242b1ab35f6a"
      },
      "execution_count": null,
      "outputs": [
        {
          "output_type": "stream",
          "name": "stdout",
          "text": [
            "Recommendations for Breaking Bad:\n",
            "0           Game of Thrones\n",
            "2          The Walking Dead\n",
            "4           Stranger Things\n",
            "3                   Friends\n",
            "6       The Big Bang Theory\n",
            "5                  Sherlock\n",
            "7                    Dexter\n",
            "8     How I Met Your Mother\n",
            "10                     Lost\n",
            "11             Prison Break\n",
            "Name: Series_Title, dtype: object\n"
          ]
        }
      ]
    },
    {
      "cell_type": "markdown",
      "source": [
        "HYBRID MODEL"
      ],
      "metadata": {
        "id": "yGloM5hit0mk"
      }
    },
    {
      "cell_type": "code",
      "source": [
        "import numpy as np\n",
        "import pandas as pd\n",
        "from sklearn.feature_extraction.text import TfidfVectorizer\n",
        "from sklearn.metrics.pairwise import cosine_similarity\n",
        "\n",
        "\n",
        "\n",
        "# Extract popularity-based columns\n",
        "df_cleaned['No_of_Votes'] = df_cleaned['No_of_Votes'].fillna(0)\n",
        "df_cleaned['IMDB_Rating'] = df_cleaned['IMDB_Rating'].fillna(0)\n",
        "\n",
        "# Example DataFrame should already have features like Overview, Genre, and ratings\n",
        "df_cleaned.head()\n"
      ],
      "metadata": {
        "colab": {
          "base_uri": "https://localhost:8080/",
          "height": 816
        },
        "id": "YAlfPZrut3O5",
        "outputId": "22d7b7da-5956-4c7d-fd93-520262b7b506"
      },
      "execution_count": null,
      "outputs": [
        {
          "output_type": "stream",
          "name": "stderr",
          "text": [
            "<ipython-input-18-32783d315b78>:9: SettingWithCopyWarning: \n",
            "A value is trying to be set on a copy of a slice from a DataFrame.\n",
            "Try using .loc[row_indexer,col_indexer] = value instead\n",
            "\n",
            "See the caveats in the documentation: https://pandas.pydata.org/pandas-docs/stable/user_guide/indexing.html#returning-a-view-versus-a-copy\n",
            "  df_cleaned['No_of_Votes'] = df_cleaned['No_of_Votes'].fillna(0)\n",
            "<ipython-input-18-32783d315b78>:10: SettingWithCopyWarning: \n",
            "A value is trying to be set on a copy of a slice from a DataFrame.\n",
            "Try using .loc[row_indexer,col_indexer] = value instead\n",
            "\n",
            "See the caveats in the documentation: https://pandas.pydata.org/pandas-docs/stable/user_guide/indexing.html#returning-a-view-versus-a-copy\n",
            "  df_cleaned['IMDB_Rating'] = df_cleaned['IMDB_Rating'].fillna(0)\n"
          ]
        },
        {
          "output_type": "execute_result",
          "data": {
            "text/plain": [
              "                                         Poster_Link      Series_Title  \\\n",
              "0  https://m.media-amazon.com/images/M/MV5BYTRiND...   Game of Thrones   \n",
              "1  https://m.media-amazon.com/images/M/MV5BMjhiMz...      Breaking Bad   \n",
              "2  https://m.media-amazon.com/images/M/MV5BMTc5Zm...  The Walking Dead   \n",
              "3  https://m.media-amazon.com/images/M/MV5BNDVkYj...           Friends   \n",
              "4  https://m.media-amazon.com/images/M/MV5BMjEzMD...   Stranger Things   \n",
              "\n",
              "  Runtime_of_Series Certificate  Runtime_of_Episodes  \\\n",
              "0       (2011–2019)           A                 57.0   \n",
              "1       (2008–2013)          18                 49.0   \n",
              "2          (2010– )         18+                 44.0   \n",
              "3       (1994–2004)         13+                 22.0   \n",
              "4          (2016– )          15                 51.0   \n",
              "\n",
              "                      Genre  IMDB_Rating  \\\n",
              "0  Action, Adventure, Drama          9.3   \n",
              "1    Crime, Drama, Thriller          9.5   \n",
              "2   Drama, Horror, Thriller          8.2   \n",
              "3           Comedy, Romance          8.9   \n",
              "4    Drama, Fantasy, Horror          8.7   \n",
              "\n",
              "                                            Overview               Star1  \\\n",
              "0  Nine noble families fight for control over the...       Emilia Clarke   \n",
              "1  A high school chemistry teacher diagnosed with...      Bryan Cranston   \n",
              "2  Sheriff Deputy Rick Grimes wakes up from a com...      Andrew Lincoln   \n",
              "3  Follows the personal and professional lives of...    Jennifer Aniston   \n",
              "4  When a young boy disappears, his mother, a pol...  Millie Bobby Brown   \n",
              "\n",
              "            Star2            Star3          Star4  No_of_Votes  \\\n",
              "0  Peter Dinklage    Kit Harington    Lena Headey      1773458   \n",
              "1      Aaron Paul        Anna Gunn   Betsy Brandt      1468887   \n",
              "2   Norman Reedus  Melissa McBride   Danai Gurira       854698   \n",
              "3   Courteney Cox      Lisa Kudrow   Matt LeBlanc       829816   \n",
              "4   Finn Wolfhard     Winona Ryder  David Harbour       824966   \n",
              "\n",
              "                                   combined_features  \n",
              "0  Nine noble families fight for control over the...  \n",
              "1  A high school chemistry teacher diagnosed with...  \n",
              "2  Sheriff Deputy Rick Grimes wakes up from a com...  \n",
              "3  Follows the personal and professional lives of...  \n",
              "4  When a young boy disappears, his mother, a pol...  "
            ],
            "text/html": [
              "\n",
              "  <div id=\"df-d774b3bc-bd4a-4b00-8938-134c3cda19f5\" class=\"colab-df-container\">\n",
              "    <div>\n",
              "<style scoped>\n",
              "    .dataframe tbody tr th:only-of-type {\n",
              "        vertical-align: middle;\n",
              "    }\n",
              "\n",
              "    .dataframe tbody tr th {\n",
              "        vertical-align: top;\n",
              "    }\n",
              "\n",
              "    .dataframe thead th {\n",
              "        text-align: right;\n",
              "    }\n",
              "</style>\n",
              "<table border=\"1\" class=\"dataframe\">\n",
              "  <thead>\n",
              "    <tr style=\"text-align: right;\">\n",
              "      <th></th>\n",
              "      <th>Poster_Link</th>\n",
              "      <th>Series_Title</th>\n",
              "      <th>Runtime_of_Series</th>\n",
              "      <th>Certificate</th>\n",
              "      <th>Runtime_of_Episodes</th>\n",
              "      <th>Genre</th>\n",
              "      <th>IMDB_Rating</th>\n",
              "      <th>Overview</th>\n",
              "      <th>Star1</th>\n",
              "      <th>Star2</th>\n",
              "      <th>Star3</th>\n",
              "      <th>Star4</th>\n",
              "      <th>No_of_Votes</th>\n",
              "      <th>combined_features</th>\n",
              "    </tr>\n",
              "  </thead>\n",
              "  <tbody>\n",
              "    <tr>\n",
              "      <th>0</th>\n",
              "      <td>https://m.media-amazon.com/images/M/MV5BYTRiND...</td>\n",
              "      <td>Game of Thrones</td>\n",
              "      <td>(2011–2019)</td>\n",
              "      <td>A</td>\n",
              "      <td>57.0</td>\n",
              "      <td>Action, Adventure, Drama</td>\n",
              "      <td>9.3</td>\n",
              "      <td>Nine noble families fight for control over the...</td>\n",
              "      <td>Emilia Clarke</td>\n",
              "      <td>Peter Dinklage</td>\n",
              "      <td>Kit Harington</td>\n",
              "      <td>Lena Headey</td>\n",
              "      <td>1773458</td>\n",
              "      <td>Nine noble families fight for control over the...</td>\n",
              "    </tr>\n",
              "    <tr>\n",
              "      <th>1</th>\n",
              "      <td>https://m.media-amazon.com/images/M/MV5BMjhiMz...</td>\n",
              "      <td>Breaking Bad</td>\n",
              "      <td>(2008–2013)</td>\n",
              "      <td>18</td>\n",
              "      <td>49.0</td>\n",
              "      <td>Crime, Drama, Thriller</td>\n",
              "      <td>9.5</td>\n",
              "      <td>A high school chemistry teacher diagnosed with...</td>\n",
              "      <td>Bryan Cranston</td>\n",
              "      <td>Aaron Paul</td>\n",
              "      <td>Anna Gunn</td>\n",
              "      <td>Betsy Brandt</td>\n",
              "      <td>1468887</td>\n",
              "      <td>A high school chemistry teacher diagnosed with...</td>\n",
              "    </tr>\n",
              "    <tr>\n",
              "      <th>2</th>\n",
              "      <td>https://m.media-amazon.com/images/M/MV5BMTc5Zm...</td>\n",
              "      <td>The Walking Dead</td>\n",
              "      <td>(2010– )</td>\n",
              "      <td>18+</td>\n",
              "      <td>44.0</td>\n",
              "      <td>Drama, Horror, Thriller</td>\n",
              "      <td>8.2</td>\n",
              "      <td>Sheriff Deputy Rick Grimes wakes up from a com...</td>\n",
              "      <td>Andrew Lincoln</td>\n",
              "      <td>Norman Reedus</td>\n",
              "      <td>Melissa McBride</td>\n",
              "      <td>Danai Gurira</td>\n",
              "      <td>854698</td>\n",
              "      <td>Sheriff Deputy Rick Grimes wakes up from a com...</td>\n",
              "    </tr>\n",
              "    <tr>\n",
              "      <th>3</th>\n",
              "      <td>https://m.media-amazon.com/images/M/MV5BNDVkYj...</td>\n",
              "      <td>Friends</td>\n",
              "      <td>(1994–2004)</td>\n",
              "      <td>13+</td>\n",
              "      <td>22.0</td>\n",
              "      <td>Comedy, Romance</td>\n",
              "      <td>8.9</td>\n",
              "      <td>Follows the personal and professional lives of...</td>\n",
              "      <td>Jennifer Aniston</td>\n",
              "      <td>Courteney Cox</td>\n",
              "      <td>Lisa Kudrow</td>\n",
              "      <td>Matt LeBlanc</td>\n",
              "      <td>829816</td>\n",
              "      <td>Follows the personal and professional lives of...</td>\n",
              "    </tr>\n",
              "    <tr>\n",
              "      <th>4</th>\n",
              "      <td>https://m.media-amazon.com/images/M/MV5BMjEzMD...</td>\n",
              "      <td>Stranger Things</td>\n",
              "      <td>(2016– )</td>\n",
              "      <td>15</td>\n",
              "      <td>51.0</td>\n",
              "      <td>Drama, Fantasy, Horror</td>\n",
              "      <td>8.7</td>\n",
              "      <td>When a young boy disappears, his mother, a pol...</td>\n",
              "      <td>Millie Bobby Brown</td>\n",
              "      <td>Finn Wolfhard</td>\n",
              "      <td>Winona Ryder</td>\n",
              "      <td>David Harbour</td>\n",
              "      <td>824966</td>\n",
              "      <td>When a young boy disappears, his mother, a pol...</td>\n",
              "    </tr>\n",
              "  </tbody>\n",
              "</table>\n",
              "</div>\n",
              "    <div class=\"colab-df-buttons\">\n",
              "\n",
              "  <div class=\"colab-df-container\">\n",
              "    <button class=\"colab-df-convert\" onclick=\"convertToInteractive('df-d774b3bc-bd4a-4b00-8938-134c3cda19f5')\"\n",
              "            title=\"Convert this dataframe to an interactive table.\"\n",
              "            style=\"display:none;\">\n",
              "\n",
              "  <svg xmlns=\"http://www.w3.org/2000/svg\" height=\"24px\" viewBox=\"0 -960 960 960\">\n",
              "    <path d=\"M120-120v-720h720v720H120Zm60-500h600v-160H180v160Zm220 220h160v-160H400v160Zm0 220h160v-160H400v160ZM180-400h160v-160H180v160Zm440 0h160v-160H620v160ZM180-180h160v-160H180v160Zm440 0h160v-160H620v160Z\"/>\n",
              "  </svg>\n",
              "    </button>\n",
              "\n",
              "  <style>\n",
              "    .colab-df-container {\n",
              "      display:flex;\n",
              "      gap: 12px;\n",
              "    }\n",
              "\n",
              "    .colab-df-convert {\n",
              "      background-color: #E8F0FE;\n",
              "      border: none;\n",
              "      border-radius: 50%;\n",
              "      cursor: pointer;\n",
              "      display: none;\n",
              "      fill: #1967D2;\n",
              "      height: 32px;\n",
              "      padding: 0 0 0 0;\n",
              "      width: 32px;\n",
              "    }\n",
              "\n",
              "    .colab-df-convert:hover {\n",
              "      background-color: #E2EBFA;\n",
              "      box-shadow: 0px 1px 2px rgba(60, 64, 67, 0.3), 0px 1px 3px 1px rgba(60, 64, 67, 0.15);\n",
              "      fill: #174EA6;\n",
              "    }\n",
              "\n",
              "    .colab-df-buttons div {\n",
              "      margin-bottom: 4px;\n",
              "    }\n",
              "\n",
              "    [theme=dark] .colab-df-convert {\n",
              "      background-color: #3B4455;\n",
              "      fill: #D2E3FC;\n",
              "    }\n",
              "\n",
              "    [theme=dark] .colab-df-convert:hover {\n",
              "      background-color: #434B5C;\n",
              "      box-shadow: 0px 1px 3px 1px rgba(0, 0, 0, 0.15);\n",
              "      filter: drop-shadow(0px 1px 2px rgba(0, 0, 0, 0.3));\n",
              "      fill: #FFFFFF;\n",
              "    }\n",
              "  </style>\n",
              "\n",
              "    <script>\n",
              "      const buttonEl =\n",
              "        document.querySelector('#df-d774b3bc-bd4a-4b00-8938-134c3cda19f5 button.colab-df-convert');\n",
              "      buttonEl.style.display =\n",
              "        google.colab.kernel.accessAllowed ? 'block' : 'none';\n",
              "\n",
              "      async function convertToInteractive(key) {\n",
              "        const element = document.querySelector('#df-d774b3bc-bd4a-4b00-8938-134c3cda19f5');\n",
              "        const dataTable =\n",
              "          await google.colab.kernel.invokeFunction('convertToInteractive',\n",
              "                                                    [key], {});\n",
              "        if (!dataTable) return;\n",
              "\n",
              "        const docLinkHtml = 'Like what you see? Visit the ' +\n",
              "          '<a target=\"_blank\" href=https://colab.research.google.com/notebooks/data_table.ipynb>data table notebook</a>'\n",
              "          + ' to learn more about interactive tables.';\n",
              "        element.innerHTML = '';\n",
              "        dataTable['output_type'] = 'display_data';\n",
              "        await google.colab.output.renderOutput(dataTable, element);\n",
              "        const docLink = document.createElement('div');\n",
              "        docLink.innerHTML = docLinkHtml;\n",
              "        element.appendChild(docLink);\n",
              "      }\n",
              "    </script>\n",
              "  </div>\n",
              "\n",
              "\n",
              "<div id=\"df-ddbcada1-4094-4e8c-b2c5-8be5de3f9716\">\n",
              "  <button class=\"colab-df-quickchart\" onclick=\"quickchart('df-ddbcada1-4094-4e8c-b2c5-8be5de3f9716')\"\n",
              "            title=\"Suggest charts\"\n",
              "            style=\"display:none;\">\n",
              "\n",
              "<svg xmlns=\"http://www.w3.org/2000/svg\" height=\"24px\"viewBox=\"0 0 24 24\"\n",
              "     width=\"24px\">\n",
              "    <g>\n",
              "        <path d=\"M19 3H5c-1.1 0-2 .9-2 2v14c0 1.1.9 2 2 2h14c1.1 0 2-.9 2-2V5c0-1.1-.9-2-2-2zM9 17H7v-7h2v7zm4 0h-2V7h2v10zm4 0h-2v-4h2v4z\"/>\n",
              "    </g>\n",
              "</svg>\n",
              "  </button>\n",
              "\n",
              "<style>\n",
              "  .colab-df-quickchart {\n",
              "      --bg-color: #E8F0FE;\n",
              "      --fill-color: #1967D2;\n",
              "      --hover-bg-color: #E2EBFA;\n",
              "      --hover-fill-color: #174EA6;\n",
              "      --disabled-fill-color: #AAA;\n",
              "      --disabled-bg-color: #DDD;\n",
              "  }\n",
              "\n",
              "  [theme=dark] .colab-df-quickchart {\n",
              "      --bg-color: #3B4455;\n",
              "      --fill-color: #D2E3FC;\n",
              "      --hover-bg-color: #434B5C;\n",
              "      --hover-fill-color: #FFFFFF;\n",
              "      --disabled-bg-color: #3B4455;\n",
              "      --disabled-fill-color: #666;\n",
              "  }\n",
              "\n",
              "  .colab-df-quickchart {\n",
              "    background-color: var(--bg-color);\n",
              "    border: none;\n",
              "    border-radius: 50%;\n",
              "    cursor: pointer;\n",
              "    display: none;\n",
              "    fill: var(--fill-color);\n",
              "    height: 32px;\n",
              "    padding: 0;\n",
              "    width: 32px;\n",
              "  }\n",
              "\n",
              "  .colab-df-quickchart:hover {\n",
              "    background-color: var(--hover-bg-color);\n",
              "    box-shadow: 0 1px 2px rgba(60, 64, 67, 0.3), 0 1px 3px 1px rgba(60, 64, 67, 0.15);\n",
              "    fill: var(--button-hover-fill-color);\n",
              "  }\n",
              "\n",
              "  .colab-df-quickchart-complete:disabled,\n",
              "  .colab-df-quickchart-complete:disabled:hover {\n",
              "    background-color: var(--disabled-bg-color);\n",
              "    fill: var(--disabled-fill-color);\n",
              "    box-shadow: none;\n",
              "  }\n",
              "\n",
              "  .colab-df-spinner {\n",
              "    border: 2px solid var(--fill-color);\n",
              "    border-color: transparent;\n",
              "    border-bottom-color: var(--fill-color);\n",
              "    animation:\n",
              "      spin 1s steps(1) infinite;\n",
              "  }\n",
              "\n",
              "  @keyframes spin {\n",
              "    0% {\n",
              "      border-color: transparent;\n",
              "      border-bottom-color: var(--fill-color);\n",
              "      border-left-color: var(--fill-color);\n",
              "    }\n",
              "    20% {\n",
              "      border-color: transparent;\n",
              "      border-left-color: var(--fill-color);\n",
              "      border-top-color: var(--fill-color);\n",
              "    }\n",
              "    30% {\n",
              "      border-color: transparent;\n",
              "      border-left-color: var(--fill-color);\n",
              "      border-top-color: var(--fill-color);\n",
              "      border-right-color: var(--fill-color);\n",
              "    }\n",
              "    40% {\n",
              "      border-color: transparent;\n",
              "      border-right-color: var(--fill-color);\n",
              "      border-top-color: var(--fill-color);\n",
              "    }\n",
              "    60% {\n",
              "      border-color: transparent;\n",
              "      border-right-color: var(--fill-color);\n",
              "    }\n",
              "    80% {\n",
              "      border-color: transparent;\n",
              "      border-right-color: var(--fill-color);\n",
              "      border-bottom-color: var(--fill-color);\n",
              "    }\n",
              "    90% {\n",
              "      border-color: transparent;\n",
              "      border-bottom-color: var(--fill-color);\n",
              "    }\n",
              "  }\n",
              "</style>\n",
              "\n",
              "  <script>\n",
              "    async function quickchart(key) {\n",
              "      const quickchartButtonEl =\n",
              "        document.querySelector('#' + key + ' button');\n",
              "      quickchartButtonEl.disabled = true;  // To prevent multiple clicks.\n",
              "      quickchartButtonEl.classList.add('colab-df-spinner');\n",
              "      try {\n",
              "        const charts = await google.colab.kernel.invokeFunction(\n",
              "            'suggestCharts', [key], {});\n",
              "      } catch (error) {\n",
              "        console.error('Error during call to suggestCharts:', error);\n",
              "      }\n",
              "      quickchartButtonEl.classList.remove('colab-df-spinner');\n",
              "      quickchartButtonEl.classList.add('colab-df-quickchart-complete');\n",
              "    }\n",
              "    (() => {\n",
              "      let quickchartButtonEl =\n",
              "        document.querySelector('#df-ddbcada1-4094-4e8c-b2c5-8be5de3f9716 button');\n",
              "      quickchartButtonEl.style.display =\n",
              "        google.colab.kernel.accessAllowed ? 'block' : 'none';\n",
              "    })();\n",
              "  </script>\n",
              "</div>\n",
              "\n",
              "    </div>\n",
              "  </div>\n"
            ],
            "application/vnd.google.colaboratory.intrinsic+json": {
              "type": "dataframe",
              "variable_name": "df_cleaned",
              "summary": "{\n  \"name\": \"df_cleaned\",\n  \"rows\": 1995,\n  \"fields\": [\n    {\n      \"column\": \"Poster_Link\",\n      \"properties\": {\n        \"dtype\": \"string\",\n        \"num_unique_values\": 1995,\n        \"samples\": [\n          \"https://m.media-amazon.com/images/M/MV5BMjAxNzkzOTkwM15BMl5BanBnXkFtZTcwNTMyNzkxNQ@@._V1_UY98_CR0,0,67,98_AL_.jpg\",\n          \"https://m.media-amazon.com/images/M/MV5BNTA2NjQ2M2ItYzA5OC00MWVlLTk0MDUtZmM5ZGY1ZTAwMTJjXkEyXkFqcGdeQXVyNjUxMjc1OTM@._V1_UX67_CR0,0,67,98_AL_.jpg\",\n          \"https://m.media-amazon.com/images/M/MV5BYzM5NDRkNzItN2FkZC00ZjQyLTlmYzctYmNiNTA4YzIxYTg2XkEyXkFqcGdeQXVyMzQ2MDI5NjU@._V1_UX67_CR0,0,67,98_AL_.jpg\"\n        ],\n        \"semantic_type\": \"\",\n        \"description\": \"\"\n      }\n    },\n    {\n      \"column\": \"Series_Title\",\n      \"properties\": {\n        \"dtype\": \"string\",\n        \"num_unique_values\": 1951,\n        \"samples\": [\n          \"GTO\",\n          \"Boruto: Naruto Next Generations\",\n          \"8 Out of 10 Cats\"\n        ],\n        \"semantic_type\": \"\",\n        \"description\": \"\"\n      }\n    },\n    {\n      \"column\": \"Runtime_of_Series\",\n      \"properties\": {\n        \"dtype\": \"category\",\n        \"num_unique_values\": 511,\n        \"samples\": [\n          \"(2000\\u20132015)\",\n          \"(2016\\u20132018)\",\n          \"(1993\\u20131994)\"\n        ],\n        \"semantic_type\": \"\",\n        \"description\": \"\"\n      }\n    },\n    {\n      \"column\": \"Certificate\",\n      \"properties\": {\n        \"dtype\": \"category\",\n        \"num_unique_values\": 18,\n        \"samples\": [\n          \"A\",\n          \"18\",\n          \"16+\"\n        ],\n        \"semantic_type\": \"\",\n        \"description\": \"\"\n      }\n    },\n    {\n      \"column\": \"Runtime_of_Episodes\",\n      \"properties\": {\n        \"dtype\": \"number\",\n        \"std\": 52.67277756172679,\n        \"min\": 3.0,\n        \"max\": 900.0,\n        \"num_unique_values\": 108,\n        \"samples\": [\n          219.0,\n          42.0,\n          51.0\n        ],\n        \"semantic_type\": \"\",\n        \"description\": \"\"\n      }\n    },\n    {\n      \"column\": \"Genre\",\n      \"properties\": {\n        \"dtype\": \"category\",\n        \"num_unique_values\": 266,\n        \"samples\": [\n          \"Crime, Drama, Sci-Fi\",\n          \"Documentary, Adventure, Comedy\",\n          \"Action, Comedy, Reality-TV\"\n        ],\n        \"semantic_type\": \"\",\n        \"description\": \"\"\n      }\n    },\n    {\n      \"column\": \"IMDB_Rating\",\n      \"properties\": {\n        \"dtype\": \"number\",\n        \"std\": 0.8994310154270788,\n        \"min\": 1.0,\n        \"max\": 9.7,\n        \"num_unique_values\": 65,\n        \"samples\": [\n          4.9,\n          2.6,\n          9.3\n        ],\n        \"semantic_type\": \"\",\n        \"description\": \"\"\n      }\n    },\n    {\n      \"column\": \"Overview\",\n      \"properties\": {\n        \"dtype\": \"string\",\n        \"num_unique_values\": 1995,\n        \"samples\": [\n          \"Medical examiner Megan Hunt's unique approach to solving crimes puts her at odds with her superiors.\",\n          \"A panel of four women discuss news and politics.\",\n          \"A series centered around a group of football players and their families, friends and handlers.\"\n        ],\n        \"semantic_type\": \"\",\n        \"description\": \"\"\n      }\n    },\n    {\n      \"column\": \"Star1\",\n      \"properties\": {\n        \"dtype\": \"string\",\n        \"num_unique_values\": 1700,\n        \"samples\": [\n          \"Merritt Wever\",\n          \"Mark Harmon\",\n          \"Steven Strait\"\n        ],\n        \"semantic_type\": \"\",\n        \"description\": \"\"\n      }\n    },\n    {\n      \"column\": \"Star2\",\n      \"properties\": {\n        \"dtype\": \"string\",\n        \"num_unique_values\": 1848,\n        \"samples\": [\n          \"Jeff Bennett\",\n          \"Zo\\u00eb Wanamaker\",\n          \"Allen Jenkins\"\n        ],\n        \"semantic_type\": \"\",\n        \"description\": \"\"\n      }\n    },\n    {\n      \"column\": \"Star3\",\n      \"properties\": {\n        \"dtype\": \"string\",\n        \"num_unique_values\": 1868,\n        \"samples\": [\n          \"Alejandra Onieva\",\n          \"J\\u00f6rg Pose\",\n          \"Thomas Barbusca\"\n        ],\n        \"semantic_type\": \"\",\n        \"description\": \"\"\n      }\n    },\n    {\n      \"column\": \"Star4\",\n      \"properties\": {\n        \"dtype\": \"string\",\n        \"num_unique_values\": 1899,\n        \"samples\": [\n          \"Robin Thorsen\",\n          \"Linden Ashby\",\n          \"Anupriya Goenka\"\n        ],\n        \"semantic_type\": \"\",\n        \"description\": \"\"\n      }\n    },\n    {\n      \"column\": \"No_of_Votes\",\n      \"properties\": {\n        \"dtype\": \"number\",\n        \"std\": 88534,\n        \"min\": 5109,\n        \"max\": 1773458,\n        \"num_unique_values\": 1921,\n        \"samples\": [\n          12928,\n          6609,\n          23798\n        ],\n        \"semantic_type\": \"\",\n        \"description\": \"\"\n      }\n    },\n    {\n      \"column\": \"combined_features\",\n      \"properties\": {\n        \"dtype\": \"string\",\n        \"num_unique_values\": 1995,\n        \"samples\": [\n          \"Medical examiner Megan Hunt's unique approach to solving crimes puts her at odds with her superiors. Comedy, Crime, Drama\",\n          \"A panel of four women discuss news and politics. Talk-Show\",\n          \"A series centered around a group of football players and their families, friends and handlers. Comedy, Drama, Sport\"\n        ],\n        \"semantic_type\": \"\",\n        \"description\": \"\"\n      }\n    }\n  ]\n}"
            }
          },
          "metadata": {},
          "execution_count": 18
        }
      ]
    },
    {
      "cell_type": "markdown",
      "source": [
        "Content-Based Filtering (TF-IDF + Cosine Similarity)"
      ],
      "metadata": {
        "id": "zhZLwpi_1PV5"
      }
    },
    {
      "cell_type": "code",
      "source": [
        "# Combine text features (Overview, Genre, etc.) into a single feature for TF-IDF vectorization\n",
        "df_cleaned['combined_features'] = df_cleaned['Overview'] + ' ' + df_cleaned['Genre']\n",
        "\n",
        "# Convert the combined features into TF-IDF vectors\n",
        "tfidf = TfidfVectorizer(stop_words='english', max_features=10000)\n",
        "tfidf_matrix = tfidf.fit_transform(df_cleaned['combined_features'])\n",
        "\n",
        "# Calculate cosine similarity between shows based on these TF-IDF vectors\n",
        "cosine_sim = cosine_similarity(tfidf_matrix, tfidf_matrix)\n",
        "\n",
        "# Create a mapping from Series_Title to its index in the dataset\n",
        "series_index = pd.Series(df_cleaned.index, index=df_cleaned['Series_Title']).drop_duplicates()\n"
      ],
      "metadata": {
        "id": "cEyccINj1OsM",
        "colab": {
          "base_uri": "https://localhost:8080/"
        },
        "outputId": "dd253c1e-1cc1-440c-de63-2d5685a2dd5f"
      },
      "execution_count": null,
      "outputs": [
        {
          "output_type": "stream",
          "name": "stderr",
          "text": [
            "<ipython-input-19-811f92da3a47>:2: SettingWithCopyWarning: \n",
            "A value is trying to be set on a copy of a slice from a DataFrame.\n",
            "Try using .loc[row_indexer,col_indexer] = value instead\n",
            "\n",
            "See the caveats in the documentation: https://pandas.pydata.org/pandas-docs/stable/user_guide/indexing.html#returning-a-view-versus-a-copy\n",
            "  df_cleaned['combined_features'] = df_cleaned['Overview'] + ' ' + df_cleaned['Genre']\n"
          ]
        }
      ]
    },
    {
      "cell_type": "markdown",
      "source": [
        "Popularity-Based Recommendations"
      ],
      "metadata": {
        "id": "oFf-DYUt1UtV"
      }
    },
    {
      "cell_type": "code",
      "source": [
        "# Sorting by IMDb rating and number of votes to create a popularity score\n",
        "df_cleaned['popularity_score'] = df_cleaned['IMDB_Rating'] * df_cleaned['No_of_Votes']\n",
        "df_cleaned = df_cleaned.sort_values('popularity_score', ascending=False)\n",
        "\n",
        "# Display the top 10 most popular shows\n",
        "popular_shows = df_cleaned[['Series_Title', 'popularity_score']].head(10)\n",
        "print(popular_shows)\n"
      ],
      "metadata": {
        "colab": {
          "base_uri": "https://localhost:8080/"
        },
        "id": "IfOvwFf61W61",
        "outputId": "dfcb510a-8b37-454d-d6c2-88a8068fbb81"
      },
      "execution_count": null,
      "outputs": [
        {
          "output_type": "stream",
          "name": "stdout",
          "text": [
            "            Series_Title  popularity_score\n",
            "0        Game of Thrones        16493159.4\n",
            "1           Breaking Bad        13954426.5\n",
            "3                Friends         7385362.4\n",
            "5               Sherlock         7359324.7\n",
            "4        Stranger Things         7177204.2\n",
            "2       The Walking Dead         7008523.6\n",
            "6    The Big Bang Theory         5865914.7\n",
            "7                 Dexter         5565369.6\n",
            "8  How I Met Your Mother         5011739.2\n",
            "9         True Detective         4501746.0\n"
          ]
        },
        {
          "output_type": "stream",
          "name": "stderr",
          "text": [
            "<ipython-input-20-28ffa7c56eb5>:2: SettingWithCopyWarning: \n",
            "A value is trying to be set on a copy of a slice from a DataFrame.\n",
            "Try using .loc[row_indexer,col_indexer] = value instead\n",
            "\n",
            "See the caveats in the documentation: https://pandas.pydata.org/pandas-docs/stable/user_guide/indexing.html#returning-a-view-versus-a-copy\n",
            "  df_cleaned['popularity_score'] = df_cleaned['IMDB_Rating'] * df_cleaned['No_of_Votes']\n"
          ]
        }
      ]
    },
    {
      "cell_type": "markdown",
      "source": [
        " Hybrid Recommendation System"
      ],
      "metadata": {
        "id": "uRcqNuIx1nUR"
      }
    },
    {
      "cell_type": "code",
      "source": [
        "def get_content_based_recommendations(title, cosine_sim=cosine_sim, top_n=10):\n",
        "    # Get the index of the show that matches the title\n",
        "    idx = series_index[title]\n",
        "\n",
        "    # Get the similarity scores for all shows with this one\n",
        "    sim_scores = list(enumerate(cosine_sim[idx]))\n",
        "\n",
        "    # Sort the shows based on similarity scores\n",
        "    sim_scores = sorted(sim_scores, key=lambda x: x[1], reverse=True)\n",
        "\n",
        "    # Get the top N most similar shows\n",
        "    sim_scores = sim_scores[1:top_n + 1]\n",
        "\n",
        "    # Get the indices of the top N most similar shows\n",
        "    show_indices = [i[0] for i in sim_scores]\n",
        "\n",
        "    # Return the top N most similar shows\n",
        "    return df_cleaned['Series_Title'].iloc[show_indices].tolist()\n",
        "\n",
        "def get_popularity_based_recommendations(top_n=10):\n",
        "    # Return the top N most popular shows based on the popularity score\n",
        "    return df_cleaned['Series_Title'].head(top_n).tolist()\n",
        "\n",
        "def get_hybrid_recommendations(title, content_weight=0.5, popularity_weight=0.5, top_n=10):\n",
        "    # Get content-based recommendations\n",
        "    content_recommendations = get_content_based_recommendations(title, top_n=top_n)\n",
        "\n",
        "    # Get popularity-based recommendations\n",
        "    popularity_recommendations = get_popularity_based_recommendations(top_n=top_n)\n",
        "\n",
        "    # Create a dictionary to store the combined scores\n",
        "    combined_scores = {}\n",
        "\n",
        "    # Assign scores for content-based recommendations\n",
        "    for idx, show in enumerate(content_recommendations):\n",
        "        combined_scores[show] = combined_scores.get(show, 0) + (content_weight * (top_n - idx))\n",
        "\n",
        "    # Assign scores for popularity-based recommendations\n",
        "    for idx, show in enumerate(popularity_recommendations):\n",
        "        combined_scores[show] = combined_scores.get(show, 0) + (popularity_weight * (top_n - idx))\n",
        "\n",
        "    # Sort the shows based on combined scores\n",
        "    hybrid_recommendations = sorted(combined_scores.items(), key=lambda x: x[1], reverse=True)\n",
        "\n",
        "    # Return the top N hybrid recommendations\n",
        "    return [show[0] for show in hybrid_recommendations[:top_n]]\n",
        "\n"
      ],
      "metadata": {
        "id": "K063zqv11lzY"
      },
      "execution_count": null,
      "outputs": []
    },
    {
      "cell_type": "code",
      "source": [
        "import numpy as np\n",
        "\n",
        "# Function to get content-based recommendations using cosine similarity\n",
        "def get_content_based_recommendations(title, top_n=10):\n",
        "    idx = df_cleaned.index[df_cleaned['Series_Title'] == title].tolist()\n",
        "\n",
        "    # Debug: Print if title is not found in the dataset\n",
        "    if not idx:\n",
        "        print(f\"Title '{title}' not found in dataset for content-based recommendations.\")\n",
        "        return []\n",
        "\n",
        "    idx = idx[0]  # Get the first match if there are multiple\n",
        "    sim_scores = list(enumerate(cosine_sim[idx]))\n",
        "    sim_scores = sorted(sim_scores, key=lambda x: x[1], reverse=True)\n",
        "    top_similar_shows = sim_scores[:top_n]\n",
        "\n",
        "    return [df_cleaned['Series_Title'].iloc[i[0]] for i in top_similar_shows]\n",
        "\n",
        "# Function to get popularity-based recommendations\n",
        "def get_popularity_based_recommendations(top_n=10):\n",
        "    sorted_shows = df_cleaned.sort_values(by=['IMDB_Rating', 'No_of_Votes'], ascending=False)\n",
        "    return sorted_shows['Series_Title'].head(top_n).values.tolist()\n",
        "\n",
        "# Hybrid recommendation combining content and popularity-based recommendations\n",
        "def get_hybrid_recommendations(user_show, top_n=10, content_weight=0.7, popularity_weight=0.3):\n",
        "    print(f\"\\nGenerating recommendations for: {user_show}\")\n",
        "\n",
        "    # Get content-based and popularity-based recommendations\n",
        "    content_recommendations = get_content_based_recommendations(user_show, top_n=top_n)\n",
        "    popularity_recommendations = get_popularity_based_recommendations(top_n=top_n)\n",
        "\n",
        "    print(f\"Content-based recommendations: {content_recommendations}\")\n",
        "    print(f\"Popularity-based recommendations: {popularity_recommendations}\")\n",
        "\n",
        "    # Create a combined score by weighting content and popularity\n",
        "    recommendations = {}\n",
        "    for i, show in enumerate(content_recommendations):\n",
        "        recommendations[show] = recommendations.get(show, 0) + content_weight * (top_n - i)\n",
        "\n",
        "    for i, show in enumerate(popularity_recommendations):\n",
        "        recommendations[show] = recommendations.get(show, 0) + popularity_weight * (top_n - i)\n",
        "\n",
        "    # Sort recommendations by the combined score\n",
        "    sorted_recommendations = sorted(recommendations.items(), key=lambda x: x[1], reverse=True)\n",
        "\n",
        "    # Debug: Print combined recommendation scores\n",
        "    print(f\"Hybrid recommendation scores: {sorted_recommendations}\")\n",
        "\n",
        "    # Return top N recommended shows\n",
        "    return [show for show, score in sorted_recommendations[:top_n]]\n",
        "\n",
        "# Evaluation function for hybrid recommendation system\n",
        "def evaluate_hybrid_recommendations(test_set, top_n=10, content_weight=0.7, popularity_weight=0.3):\n",
        "    precision_scores = []\n",
        "    recall_scores = []\n",
        "\n",
        "    for user, actual_watched in test_set:\n",
        "        predicted_watched = get_hybrid_recommendations(user, top_n=top_n, content_weight=content_weight, popularity_weight=popularity_weight)\n",
        "\n",
        "        relevant_items = set([show.lower().strip() for show in actual_watched])\n",
        "        recommended_items = set([show.lower().strip() for show in predicted_watched])\n",
        "\n",
        "        num_relevant_recommended = len(relevant_items.intersection(recommended_items))\n",
        "        precision = num_relevant_recommended / top_n if top_n > 0 else 0\n",
        "        recall = num_relevant_recommended / len(relevant_items) if len(relevant_items) > 0 else 0\n",
        "\n",
        "        precision_scores.append(precision)\n",
        "        recall_scores.append(recall)\n",
        "\n",
        "    mean_precision = np.mean(precision_scores)\n",
        "    mean_recall = np.mean(recall_scores)\n",
        "\n",
        "    return mean_precision, mean_recall\n",
        "\n",
        "# Test set format: [(user, actual_watched_list), ...]\n",
        "test_set = [\n",
        "    ('breaking bad', ['breaking bad', 'narcos', 'the wire']),\n",
        "    ('game of thrones', ['game of thrones', 'vikings', 'the last kingdom']),\n",
        "]\n",
        "\n",
        "# Tune weights for content-based and popularity-based recommendations\n",
        "content_weight = 0.7\n",
        "popularity_weight = 0.3\n",
        "\n",
        "# Evaluate hybrid recommendations with debugging\n",
        "precision, recall = evaluate_hybrid_recommendations(test_set, top_n=10, content_weight=content_weight, popularity_weight=popularity_weight)\n",
        "print(f'\\nPrecision@10: {precision:.4f}')\n",
        "print(f'Recall@10: {recall:.4f}')\n"
      ],
      "metadata": {
        "colab": {
          "base_uri": "https://localhost:8080/"
        },
        "id": "jNqCiMPB2nqt",
        "outputId": "1a4ba534-058e-4f34-f0ed-13698869ab8e"
      },
      "execution_count": null,
      "outputs": [
        {
          "output_type": "stream",
          "name": "stdout",
          "text": [
            "\n",
            "Generating recommendations for: breaking bad\n",
            "Title 'breaking bad' not found in dataset for content-based recommendations.\n",
            "Content-based recommendations: []\n",
            "Popularity-based recommendations: ['The Chosen', 'Breaking Bad', 'The Filthy Frank Show', 'Koombiyo', 'Scam 1992: The Harshad Mehta Story', 'Game of Thrones', 'The Wire', 'Critical Role', 'Rick and Morty', 'The Sopranos']\n",
            "Hybrid recommendation scores: [('The Chosen', 3.0), ('Breaking Bad', 2.6999999999999997), ('The Filthy Frank Show', 2.4), ('Koombiyo', 2.1), ('Scam 1992: The Harshad Mehta Story', 1.7999999999999998), ('Game of Thrones', 1.5), ('The Wire', 1.2), ('Critical Role', 0.8999999999999999), ('Rick and Morty', 0.6), ('The Sopranos', 0.3)]\n",
            "\n",
            "Generating recommendations for: game of thrones\n",
            "Title 'game of thrones' not found in dataset for content-based recommendations.\n",
            "Content-based recommendations: []\n",
            "Popularity-based recommendations: ['The Chosen', 'Breaking Bad', 'The Filthy Frank Show', 'Koombiyo', 'Scam 1992: The Harshad Mehta Story', 'Game of Thrones', 'The Wire', 'Critical Role', 'Rick and Morty', 'The Sopranos']\n",
            "Hybrid recommendation scores: [('The Chosen', 3.0), ('Breaking Bad', 2.6999999999999997), ('The Filthy Frank Show', 2.4), ('Koombiyo', 2.1), ('Scam 1992: The Harshad Mehta Story', 1.7999999999999998), ('Game of Thrones', 1.5), ('The Wire', 1.2), ('Critical Role', 0.8999999999999999), ('Rick and Morty', 0.6), ('The Sopranos', 0.3)]\n",
            "\n",
            "Precision@10: 0.1500\n",
            "Recall@10: 0.5000\n"
          ]
        }
      ]
    },
    {
      "cell_type": "code",
      "source": [
        "import pandas as pd\n",
        "import numpy as np\n",
        "from sklearn.feature_extraction.text import TfidfVectorizer\n",
        "from sklearn.metrics.pairwise import cosine_similarity\n",
        "\n",
        "# Assuming df_cleaned and series_index are already defined\n",
        "# Initialize the TF-IDF Vectorizer\n",
        "tfidf = TfidfVectorizer(stop_words='english')\n",
        "\n",
        "# Step 1: Normalize titles and create combined features\n",
        "df_cleaned['Series_Title'] = df_cleaned['Series_Title'].str.lower().str.strip()\n",
        "df_cleaned['combined_features'] = df_cleaned['Overview'] + ' ' + df_cleaned['Genre'] + ' ' + \\\n",
        "                                    df_cleaned['Star1'].fillna('') + ' ' + df_cleaned['Star2'].fillna('') + ' ' + \\\n",
        "                                    df_cleaned['Star3'].fillna('') + ' ' + df_cleaned['Star4'].fillna('')\n",
        "\n",
        "# Step 2: Fit the TF-IDF Vectorizer\n",
        "tfidf_matrix = tfidf.fit_transform(df_cleaned['combined_features'])\n",
        "\n",
        "# Step 3: Compute cosine similarity\n",
        "cosine_sim = cosine_similarity(tfidf_matrix, tfidf_matrix)\n",
        "\n",
        "# Create a mapping of series titles to their index\n",
        "series_index = pd.Series(df_cleaned.index, index=df_cleaned['Series_Title']).to_dict()\n",
        "\n",
        "def get_content_based_recommendations(title, top_n=10):\n",
        "    # Normalize the input title\n",
        "    title = title.lower().strip()\n",
        "\n",
        "    if title not in series_index:\n",
        "        print(f\"Title '{title}' not found in dataset for content-based recommendations.\")\n",
        "        return []\n",
        "\n",
        "    idx = series_index[title]\n",
        "    sim_scores = list(enumerate(cosine_sim[idx]))\n",
        "    sim_scores = sorted(sim_scores, key=lambda x: x[1], reverse=True)\n",
        "\n",
        "    sim_scores = sim_scores[1:top_n + 1]\n",
        "    show_indices = [i[0] for i in sim_scores]\n",
        "\n",
        "    return df_cleaned['Series_Title'].iloc[show_indices].tolist()\n",
        "\n",
        "def get_popularity_based_recommendations(top_n=10):\n",
        "    # Assuming popularity is based on a column, e.g., 'No_of_votes'\n",
        "    if 'No_of_Votes' not in df_cleaned.columns:\n",
        "        raise ValueError(\"DataFrame must have 'No_of_votes' column for popularity-based recommendations.\")\n",
        "\n",
        "    # Rank by 'No_of_votes' (or another popularity metric) and get top N\n",
        "    popular_shows = df_cleaned.sort_values(by='No_of_Votes', ascending=False)\n",
        "    return popular_shows['Series_Title'].head(top_n).tolist()\n",
        "\n",
        "def get_hybrid_recommendations(title, content_weight=0.5, popularity_weight=0.5, top_n=10):\n",
        "    # Get content-based recommendations\n",
        "    content_recommendations = get_content_based_recommendations(title, top_n=top_n)\n",
        "\n",
        "    # Get popularity-based recommendations\n",
        "    popularity_recommendations = get_popularity_based_recommendations(top_n=top_n)\n",
        "\n",
        "    # Create a dictionary to store the combined scores\n",
        "    combined_scores = {}\n",
        "\n",
        "    # Assign scores for content-based recommendations\n",
        "    for idx, show in enumerate(content_recommendations):\n",
        "        combined_scores[show] = combined_scores.get(show, 0) + (content_weight * (top_n - idx))\n",
        "\n",
        "    # Assign scores for popularity-based recommendations\n",
        "    for idx, show in enumerate(popularity_recommendations):\n",
        "        combined_scores[show] = combined_scores.get(show, 0) + (popularity_weight * (top_n - idx))\n",
        "\n",
        "    # Sort the shows based on combined scores\n",
        "    hybrid_recommendations = sorted(combined_scores.items(), key=lambda x: x[1], reverse=True)\n",
        "\n",
        "    # Return the top N hybrid recommendations\n",
        "    return [show[0] for show in hybrid_recommendations[:top_n]]\n",
        "\n",
        "# Example usage:\n",
        "title = \"Breaking Bad\"  # Replace with any show title from your dataset\n",
        "print(\"Content-Based Recommendations:\")\n",
        "print(get_content_based_recommendations(title, top_n=10))\n",
        "\n",
        "print(\"\\nPopularity-Based Recommendations:\")\n",
        "print(get_popularity_based_recommendations(top_n=10))\n",
        "\n",
        "print(\"\\nHybrid Recommendations:\")\n",
        "print(get_hybrid_recommendations(title, content_weight=0.5, popularity_weight=0.5, top_n=10))\n"
      ],
      "metadata": {
        "colab": {
          "base_uri": "https://localhost:8080/"
        },
        "id": "ykHrKBtz4Z-S",
        "outputId": "580dc146-0b42-4337-8ba2-a95461d420ed"
      },
      "execution_count": null,
      "outputs": [
        {
          "output_type": "stream",
          "name": "stdout",
          "text": [
            "Content-Based Recommendations:\n",
            "['life in pieces', 'malcolm in the middle', 'your honor', 'electric dreams', 'rita', 'felicity', 'when calls the heart', 'clannad', 'weeds', 'aarya']\n",
            "\n",
            "Popularity-Based Recommendations:\n",
            "['game of thrones', 'breaking bad', 'the walking dead', 'friends', 'stranger things', 'sherlock', 'the big bang theory', 'dexter', 'how i met your mother', 'true detective']\n",
            "\n",
            "Hybrid Recommendations:\n",
            "['life in pieces', 'game of thrones', 'malcolm in the middle', 'breaking bad', 'your honor', 'the walking dead', 'electric dreams', 'friends', 'rita', 'stranger things']\n"
          ]
        }
      ]
    },
    {
      "cell_type": "code",
      "source": [
        "import pandas as pd\n",
        "import numpy as np\n",
        "from sklearn.feature_extraction.text import TfidfVectorizer\n",
        "from sklearn.metrics.pairwise import cosine_similarity\n",
        "\n",
        "# Assuming df_cleaned and series_index are already defined\n",
        "tfidf = TfidfVectorizer(stop_words='english', ngram_range=(1, 2), max_features=10000)\n",
        "\n",
        "# Construct combined features without multiplying by floats\n",
        "df_cleaned['combined_features'] = (\n",
        "    df_cleaned['Overview'].fillna('') + ' ' +\n",
        "    df_cleaned['Overview'].fillna('') + ' ' +  # Duplicate for weight\n",
        "    df_cleaned['Genre'].fillna('') + ' ' +\n",
        "    df_cleaned['Genre'].fillna('') + ' ' +     # Duplicate for weight\n",
        "    df_cleaned['Star1'].fillna('') + ' ' +\n",
        "    df_cleaned['Star2'].fillna('') + ' ' +\n",
        "    df_cleaned['Star3'].fillna('') + ' ' +\n",
        "    df_cleaned['Star4'].fillna('')\n",
        ")\n",
        "\n",
        "# Step 2: Fit the TF-IDF Vectorizer and calculate cosine similarity\n",
        "tfidf_matrix = tfidf.fit_transform(df_cleaned['combined_features'])\n",
        "cosine_sim = cosine_similarity(tfidf_matrix, tfidf_matrix)\n",
        "\n",
        "# Mapping series titles to index\n",
        "series_index = pd.Series(df_cleaned.index, index=df_cleaned['Series_Title'].str.lower().str.strip()).to_dict()\n",
        "\n",
        "# Relevant items list expanded to include more items for precision/recall improvement\n",
        "relevant_items = [\n",
        "    \"Friends\", \"Breaking Bad\", \"Doc Martin\", \"The Office\", \"Stranger Things\", \"Sherlock\",\n",
        "    \"The Crown\", \"House of Cards\", \"The Mandalorian\", \"Game of Thrones\"\n",
        "]\n",
        "\n",
        "def get_content_based_recommendations(title, top_n=10):\n",
        "    title = title.lower().strip()\n",
        "    if title not in series_index:\n",
        "        print(f\"Title '{title}' not found.\")\n",
        "        return []\n",
        "\n",
        "    idx = series_index[title]\n",
        "    sim_scores = list(enumerate(cosine_sim[idx]))\n",
        "    sim_scores = sorted(sim_scores, key=lambda x: x[1], reverse=True)[1:top_n + 1]\n",
        "    show_indices = [i[0] for i in sim_scores]\n",
        "\n",
        "    return df_cleaned['Series_Title'].iloc[show_indices].tolist()\n",
        "\n",
        "def get_popularity_based_recommendations(top_n=10):\n",
        "    popular_shows = df_cleaned.sort_values(by=['No_of_Votes', 'IMDB_Rating'], ascending=False)\n",
        "    return popular_shows['Series_Title'].head(top_n).tolist()\n",
        "\n",
        "def get_hybrid_recommendations(title, content_weight=0.7, popularity_weight=0.3, top_n=10):\n",
        "    content_recommendations = get_content_based_recommendations(title, top_n=top_n)\n",
        "    popularity_recommendations = get_popularity_based_recommendations(top_n=top_n)\n",
        "\n",
        "    combined_scores = {}\n",
        "    for idx, show in enumerate(content_recommendations):\n",
        "        combined_scores[show] = combined_scores.get(show, 0) + (content_weight * (top_n - idx))\n",
        "    for idx, show in enumerate(popularity_recommendations):\n",
        "        combined_scores[show] = combined_scores.get(show, 0) + (popularity_weight * (top_n - idx))\n",
        "\n",
        "    hybrid_recommendations = sorted(combined_scores.items(), key=lambda x: x[1], reverse=True)\n",
        "    return [show[0] for show in hybrid_recommendations[:top_n]]\n",
        "\n",
        "# Precision/Recall Calculation\n",
        "def evaluate_recommendations(recommendations, relevant_items):\n",
        "    relevant_set = set(relevant_items)\n",
        "    recommended_set = set(recommendations)\n",
        "    true_positives = len(recommended_set & relevant_set)\n",
        "    precision = true_positives / len(recommended_set) if recommended_set else 0\n",
        "    recall = true_positives / len(relevant_set) if relevant_set else 0\n",
        "    return precision, recall\n",
        "\n",
        "# Example usage and evaluation\n",
        "title = \"Breaking Bad\"\n",
        "print(\"Content-Based Recommendations:\")\n",
        "content_recs = get_content_based_recommendations(title, top_n=10)\n",
        "print(content_recs)\n",
        "content_precision, content_recall = evaluate_recommendations(content_recs, relevant_items)\n",
        "print(f\"Content-Based - Precision: {content_precision:.2f}, Recall: {content_recall:.2f}\")\n",
        "\n",
        "print(\"\\nPopularity-Based Recommendations:\")\n",
        "popularity_recs = get_popularity_based_recommendations(top_n=10)\n",
        "print(popularity_recs)\n",
        "popularity_precision, popularity_recall = evaluate_recommendations(popularity_recs, relevant_items)\n",
        "print(f\"Popularity-Based - Precision: {popularity_precision:.2f}, Recall: {popularity_recall:.2f}\")\n",
        "\n",
        "print(\"\\nHybrid Recommendations:\")\n",
        "hybrid_recs = get_hybrid_recommendations(title, content_weight=0.7, popularity_weight=0.3, top_n=10)\n",
        "print(hybrid_recs)\n",
        "hybrid_precision, hybrid_recall = evaluate_recommendations(hybrid_recs, relevant_items)\n",
        "print(f\"Hybrid - Precision: {hybrid_precision:.2f}, Recall: {hybrid_recall:.2f}\")\n"
      ],
      "metadata": {
        "colab": {
          "base_uri": "https://localhost:8080/"
        },
        "id": "3kkzqNbUGhsj",
        "outputId": "4a6ad146-99f7-4c72-fd4b-c6a267585479"
      },
      "execution_count": null,
      "outputs": [
        {
          "output_type": "stream",
          "name": "stdout",
          "text": [
            "Content-Based Recommendations:\n",
            "['felicity', 'aarya', 'hung', 'mr. iglesias', 'welcome back, kotter', 'clannad', 'senke nad balkanom', 'your honor', 'stalker', 'the carrie diaries']\n",
            "Content-Based - Precision: 0.00, Recall: 0.00\n",
            "\n",
            "Popularity-Based Recommendations:\n",
            "['game of thrones', 'breaking bad', 'the walking dead', 'friends', 'stranger things', 'sherlock', 'the big bang theory', 'dexter', 'how i met your mother', 'true detective']\n",
            "Popularity-Based - Precision: 0.00, Recall: 0.00\n",
            "\n",
            "Hybrid Recommendations:\n",
            "['felicity', 'aarya', 'hung', 'mr. iglesias', 'welcome back, kotter', 'clannad', 'game of thrones', 'senke nad balkanom', 'breaking bad', 'the walking dead']\n",
            "Hybrid - Precision: 0.00, Recall: 0.00\n"
          ]
        }
      ]
    },
    {
      "cell_type": "code",
      "source": [
        "def print_recommendations(title, top_n=10):\n",
        "    print(f\"Generating recommendations for: {title}\\n\")\n",
        "\n",
        "    # Content-Based Recommendations\n",
        "    content_recs = get_content_based_recommendations(title, top_n=top_n)\n",
        "    print(\"Content-Based Recommendations:\")\n",
        "    if isinstance(content_recs, str):\n",
        "        print(content_recs)\n",
        "    else:\n",
        "        for i, rec in enumerate(content_recs, start=1):\n",
        "            print(f\"{i}. {rec}\")\n",
        "\n",
        "    # Popularity-Based Recommendations\n",
        "    popularity_recs = get_popularity_based_recommendations(top_n=top_n)\n",
        "    print(\"\\nPopularity-Based Recommendations:\")\n",
        "    if isinstance(popularity_recs, str):\n",
        "        print(popularity_recs)\n",
        "    else:\n",
        "        for i, rec in enumerate(popularity_recs, start=1):\n",
        "            print(f\"{i}. {rec}\")\n",
        "\n",
        "    # Hybrid Recommendations\n",
        "    hybrid_recs = get_hybrid_recommendations(title, content_weight=0.5, popularity_weight=0.5, top_n=top_n)\n",
        "    print(\"\\nHybrid Recommendations:\")\n",
        "    if isinstance(hybrid_recs, str):\n",
        "        print(hybrid_recs)\n",
        "    else:\n",
        "        for i, rec in enumerate(hybrid_recs, start=1):\n",
        "            print(f\"{i}. {rec}\")\n",
        "\n",
        "# Example usage\n",
        "title = \"Friends\"  # Replace with any show title from your dataset\n",
        "print_recommendations(title, top_n=10)\n"
      ],
      "metadata": {
        "id": "ZTGaeigV5Rqy",
        "colab": {
          "base_uri": "https://localhost:8080/"
        },
        "outputId": "79750b4b-5ef2-4766-9a0f-f6f93e76975e"
      },
      "execution_count": null,
      "outputs": [
        {
          "output_type": "stream",
          "name": "stdout",
          "text": [
            "Generating recommendations for: Friends\n",
            "\n",
            "Content-Based Recommendations:\n",
            "1. doc martin\n",
            "2. whitechapel\n",
            "3. the forsyte saga\n",
            "4. what's new, scooby-doo?\n",
            "5. absentia\n",
            "6. murder, she wrote\n",
            "7. travelers\n",
            "8. fargo\n",
            "9. the royals\n",
            "10. the a-team\n",
            "\n",
            "Popularity-Based Recommendations:\n",
            "1. game of thrones\n",
            "2. breaking bad\n",
            "3. the walking dead\n",
            "4. friends\n",
            "5. stranger things\n",
            "6. sherlock\n",
            "7. the big bang theory\n",
            "8. dexter\n",
            "9. how i met your mother\n",
            "10. true detective\n",
            "\n",
            "Hybrid Recommendations:\n",
            "1. doc martin\n",
            "2. game of thrones\n",
            "3. whitechapel\n",
            "4. breaking bad\n",
            "5. the forsyte saga\n",
            "6. the walking dead\n",
            "7. what's new, scooby-doo?\n",
            "8. friends\n",
            "9. absentia\n",
            "10. stranger things\n"
          ]
        }
      ]
    },
    {
      "cell_type": "code",
      "source": [
        "def evaluate_recommendations(recommended_items, relevant_items):\n",
        "    # Calculate True Positives (relevant recommendations)\n",
        "    true_positives = len(set(recommended_items) & set(relevant_items))\n",
        "\n",
        "    # Calculate Precision and Recall\n",
        "    precision = true_positives / len(recommended_items) if recommended_items else 0\n",
        "    recall = true_positives / len(relevant_items) if relevant_items else 0\n",
        "\n",
        "    return precision, recall\n",
        "\n",
        "# Set relevant items to specific shows the user is known to like\n",
        "relevant_items = [\"Friends\", \"Breaking Bad\", \"Doc Martin\"]  # Replace with actual relevant shows for the user\n",
        "\n",
        "# Content-Based Evaluation\n",
        "content_recs = get_content_based_recommendations(title, top_n=10)\n",
        "precision_content, recall_content = evaluate_recommendations(content_recs, relevant_items)\n",
        "print(f\"Content-Based - Precision: {precision_content:.2f}, Recall: {recall_content:.2f}\")\n",
        "\n",
        "# Popularity-Based Evaluation\n",
        "popularity_recs = get_popularity_based_recommendations(top_n=10)\n",
        "precision_popularity, recall_popularity = evaluate_recommendations(popularity_recs, relevant_items)\n",
        "print(f\"Popularity-Based - Precision: {precision_popularity:.2f}, Recall: {recall_popularity:.2f}\")\n",
        "\n",
        "# Hybrid Evaluation\n",
        "hybrid_recs = get_hybrid_recommendations(title, content_weight=0.5, popularity_weight=0.5, top_n=10)\n",
        "precision_hybrid, recall_hybrid = evaluate_recommendations(hybrid_recs, relevant_items)\n",
        "print(f\"Hybrid - Precision: {precision_hybrid:.2f}, Recall: {recall_hybrid:.2f}\")\n"
      ],
      "metadata": {
        "colab": {
          "base_uri": "https://localhost:8080/"
        },
        "id": "p1mdqwbBF4-M",
        "outputId": "c7fe96de-3565-43a5-c2ad-375755627d98"
      },
      "execution_count": null,
      "outputs": [
        {
          "output_type": "stream",
          "name": "stdout",
          "text": [
            "Content-Based - Precision: 0.00, Recall: 0.00\n",
            "Popularity-Based - Precision: 0.10, Recall: 0.33\n",
            "\n",
            "Generating recommendations for: Stranger Things\n",
            "Content-based recommendations: ['Stranger Things', 'Suzumiya Haruhi no yûutsu', 'The Newsroom', 'Into the Night', 'The Secret Circle', 'Sanctuary', 'The Cosby Show', 'Manhattan Love Story', 'Alex Rider', 'Low Winter Sun']\n",
            "Popularity-based recommendations: ['The Chosen', 'Breaking Bad', 'The Filthy Frank Show', 'Koombiyo', 'Scam 1992: The Harshad Mehta Story', 'Game of Thrones', 'The Wire', 'Critical Role', 'Rick and Morty', 'The Sopranos']\n",
            "Hybrid recommendation scores: [('Stranger Things', 5.0), ('The Chosen', 5.0), ('Suzumiya Haruhi no yûutsu', 4.5), ('Breaking Bad', 4.5), ('The Newsroom', 4.0), ('The Filthy Frank Show', 4.0), ('Into the Night', 3.5), ('Koombiyo', 3.5), ('The Secret Circle', 3.0), ('Scam 1992: The Harshad Mehta Story', 3.0), ('Sanctuary', 2.5), ('Game of Thrones', 2.5), ('The Cosby Show', 2.0), ('The Wire', 2.0), ('Manhattan Love Story', 1.5), ('Critical Role', 1.5), ('Alex Rider', 1.0), ('Rick and Morty', 1.0), ('Low Winter Sun', 0.5), ('The Sopranos', 0.5)]\n",
            "Hybrid - Precision: 0.10, Recall: 0.33\n"
          ]
        }
      ]
    },
    {
      "cell_type": "code",
      "source": [
        "import numpy as np\n",
        "import pandas as pd\n",
        "from sklearn.decomposition import TruncatedSVD\n",
        "# Create an interaction matrix with multiple features\n",
        "interaction_matrix = df_cleaned[['IMDB_Rating', 'No_of_Votes']]\n",
        "\n",
        "# Drop any rows with missing values to avoid errors during SVD\n",
        "interaction_matrix = interaction_matrix.dropna()\n",
        "\n",
        "# Apply SVD with n_components <= number of features\n",
        "svd = TruncatedSVD(n_components=2)  # Set n_components to 2 since we have 2 features\n",
        "matrix_factorized = svd.fit_transform(interaction_matrix)\n",
        "\n",
        "# Reconstruct the matrix\n",
        "reconstructed_matrix = np.dot(matrix_factorized, svd.components_)\n",
        "\n",
        "# Convert back to DataFrame for interpretation\n",
        "reconstructed_df = pd.DataFrame(reconstructed_matrix, index=df_cleaned['Series_Title'], columns=interaction_matrix.columns)\n",
        "\n",
        "# Print reconstructed matrix\n",
        "print(reconstructed_df.head())\n"
      ],
      "metadata": {
        "colab": {
          "base_uri": "https://localhost:8080/"
        },
        "id": "xNWb2sQKWJii",
        "outputId": "bb2d3ceb-1d0e-4346-dae0-e471a4316d5a"
      },
      "execution_count": null,
      "outputs": [
        {
          "output_type": "stream",
          "name": "stdout",
          "text": [
            "                 IMDB_Rating  No_of_Votes\n",
            "Series_Title                             \n",
            "game of thrones          9.3    1773458.0\n",
            "breaking bad             9.5    1468887.0\n",
            "friends                  8.9     829816.0\n",
            "sherlock                 9.1     808717.0\n",
            "stranger things          8.7     824966.0\n"
          ]
        }
      ]
    },
    {
      "cell_type": "code",
      "source": [
        "from sklearn.metrics.pairwise import cosine_similarity\n",
        "\n",
        "# Step 1: Compute the cosine similarity between all items (TV series)\n",
        "item_similarity = cosine_similarity(reconstructed_matrix)\n",
        "\n",
        "# Convert to DataFrame for easy lookup\n",
        "item_similarity_df = pd.DataFrame(item_similarity, index=df_cleaned['Series_Title'], columns=df_cleaned['Series_Title'])\n",
        "\n",
        "# Step 2: Define a function to get recommendations based on similarity scores\n",
        "def get_svd_recommendations(title, top_n=10):\n",
        "    # Check if the title exists in the dataset\n",
        "    if title not in item_similarity_df.index:\n",
        "        print(f\"Title '{title}' not found in the dataset.\")\n",
        "        return []\n",
        "\n",
        "    # Get similarity scores for the given title\n",
        "    sim_scores = item_similarity_df[title]\n",
        "\n",
        "    # Sort by similarity scores and get the top N most similar titles\n",
        "    sim_scores = sim_scores.sort_values(ascending=False)\n",
        "\n",
        "    # Exclude the input title itself from the recommendations\n",
        "    recommended_titles = sim_scores.index[1:top_n + 1].tolist()\n",
        "\n",
        "    return recommended_titles\n",
        "\n",
        "# Example usage\n",
        "title = \"Breaking Bad\"  # Replace with any series title from your dataset\n",
        "print(f\"SVD-based Recommendations for '{title}':\")\n",
        "print(get_svd_recommendations(title, top_n=10))\n"
      ],
      "metadata": {
        "colab": {
          "base_uri": "https://localhost:8080/"
        },
        "id": "p5Jv-pzQaH5L",
        "outputId": "2daa0950-339a-46ed-fe84-0ef9581b2899"
      },
      "execution_count": null,
      "outputs": [
        {
          "output_type": "stream",
          "name": "stdout",
          "text": [
            "SVD-based Recommendations for 'Breaking Bad':\n",
            "Title 'Breaking Bad' not found in the dataset.\n",
            "[]\n"
          ]
        }
      ]
    },
    {
      "cell_type": "code",
      "source": [
        "import pandas as pd\n",
        "import numpy as np\n",
        "from pyspark.ml.recommendation import ALS\n",
        "from pyspark.sql import SparkSession\n",
        "from pyspark.sql import Row\n",
        "\n",
        "# Create a Spark session\n",
        "spark = SparkSession.builder.appName(\"ALS_Recommender\").getOrCreate()\n",
        "\n",
        "# Step 1: Generate artificial User IDs (treat each series as a user)\n",
        "df_cleaned['User_ID'] = np.arange(1, len(df_cleaned) + 1)\n",
        "\n",
        "# Step 2: Rename Series_Title to Item_ID and consider IMDBRating as the \"user rating\"\n",
        "df_cleaned = df_cleaned.rename(columns={'Series_Title': 'Item_ID', 'IMDB_Rating': 'Rating'})\n",
        "\n",
        "# Step 3: Create a PySpark DataFrame\n",
        "ratings_df = df_cleaned[['User_ID', 'Item_ID', 'Rating']]\n",
        "ratings_spark = spark.createDataFrame(ratings_df)\n",
        "\n",
        "# Step 4: Convert 'Item_ID' to numerical (you can use StringIndexer if needed)\n",
        "from pyspark.ml.feature import StringIndexer\n",
        "\n",
        "# Indexing Item_ID for ALS\n",
        "indexer = StringIndexer(inputCol='Item_ID', outputCol='Item_ID_index')\n",
        "ratings_spark = indexer.fit(ratings_spark).transform(ratings_spark)\n",
        "\n",
        "# Step 5: Prepare data for ALS (ensure the IDs and ratings are numerical)\n",
        "als = ALS(\n",
        "    userCol='User_ID',\n",
        "    itemCol='Item_ID_index',\n",
        "    ratingCol='Rating',\n",
        "    nonnegative=True,\n",
        "    implicitPrefs=False,\n",
        "    coldStartStrategy='drop'\n",
        ")\n",
        "\n",
        "# Step 6: Fit the ALS model\n",
        "model = als.fit(ratings_spark)\n",
        "\n",
        "# Step 7: Generate recommendations\n",
        "user_recommendations = model.recommendForAllUsers(10)  # Top 10 recommendations for each user\n",
        "\n",
        "# Step 8: Display some recommendations\n",
        "user_recommendations.show()\n",
        "\n",
        "# Step 9: Stop the Spark session\n",
        "spark.stop()\n"
      ],
      "metadata": {
        "colab": {
          "base_uri": "https://localhost:8080/"
        },
        "id": "DQiEOyjSaLFG",
        "outputId": "812924e4-4f79-4b1e-ec5b-354cebc810d2"
      },
      "execution_count": null,
      "outputs": [
        {
          "output_type": "stream",
          "name": "stdout",
          "text": [
            "+-------+--------------------+\n",
            "|User_ID|     recommendations|\n",
            "+-------+--------------------+\n",
            "|      1|[{614, 9.268369},...|\n",
            "|      3|[{599, 8.874751},...|\n",
            "|      5|[{1415, 8.672846}...|\n",
            "|      6|[{1635, 9.0914755...|\n",
            "|      9|[{659, 8.476506},...|\n",
            "|     12|[{1490, 8.729829}...|\n",
            "|     13|[{666, 8.32055}, ...|\n",
            "|     15|[{31, 8.871606}, ...|\n",
            "|     16|[{1879, 8.572038}...|\n",
            "|     17|[{1856, 8.469797}...|\n",
            "|     19|[{1235, 9.174849}...|\n",
            "|     20|[{1430, 8.37332},...|\n",
            "|     22|[{575, 13.53421},...|\n",
            "|     26|[{294, 8.357134},...|\n",
            "|     27|[{1683, 8.637486}...|\n",
            "|     28|[{555, 8.872435},...|\n",
            "|     31|[{208, 8.668599},...|\n",
            "|     34|[{732, 8.270606},...|\n",
            "|     35|[{1635, 8.773373}...|\n",
            "|     37|[{877, 8.27172}, ...|\n",
            "+-------+--------------------+\n",
            "only showing top 20 rows\n",
            "\n"
          ]
        }
      ]
    },
    {
      "cell_type": "code",
      "source": [
        "from pyspark.sql import SparkSession\n",
        "\n",
        "# Create a Spark session (if it doesn't already exist)\n",
        "spark = SparkSession.builder.appName(\"ALS_Recommender\").getOrCreate()\n",
        "\n",
        "# Check if Spark session is active\n",
        "print(spark)\n"
      ],
      "metadata": {
        "colab": {
          "base_uri": "https://localhost:8080/"
        },
        "id": "KV7_hZ3yOZi2",
        "outputId": "799b6f34-39d8-42d5-a5f7-ffbb83153d21"
      },
      "execution_count": null,
      "outputs": [
        {
          "output_type": "stream",
          "name": "stdout",
          "text": [
            "<pyspark.sql.session.SparkSession object at 0x7973dbb8fa60>\n"
          ]
        }
      ]
    },
    {
      "cell_type": "code",
      "source": [
        "!pip show pyspark\n"
      ],
      "metadata": {
        "colab": {
          "base_uri": "https://localhost:8080/"
        },
        "id": "StRiWSV8Ofur",
        "outputId": "7fe32656-8b36-4df0-d85e-6f3319db41d1"
      },
      "execution_count": null,
      "outputs": [
        {
          "output_type": "stream",
          "name": "stdout",
          "text": [
            "Name: pyspark\n",
            "Version: 3.5.3\n",
            "Summary: Apache Spark Python API\n",
            "Home-page: https://github.com/apache/spark/tree/master/python\n",
            "Author: Spark Developers\n",
            "Author-email: dev@spark.apache.org\n",
            "License: http://www.apache.org/licenses/LICENSE-2.0\n",
            "Location: /usr/local/lib/python3.10/dist-packages\n",
            "Requires: py4j\n",
            "Required-by: \n"
          ]
        }
      ]
    },
    {
      "cell_type": "code",
      "source": [
        "print(df_cleaned.columns)\n"
      ],
      "metadata": {
        "id": "-2GaafD3KNNQ",
        "outputId": "d8dee779-72cb-4e35-edeb-05e287509cb5",
        "colab": {
          "base_uri": "https://localhost:8080/"
        }
      },
      "execution_count": null,
      "outputs": [
        {
          "output_type": "stream",
          "name": "stdout",
          "text": [
            "Index(['Poster_Link', 'Series_Title', 'Runtime_of_Series', 'Certificate',\n",
            "       'Runtime_of_Episodes', 'Genre', 'IMDB_Rating', 'Overview', 'Star1',\n",
            "       'Star2', 'Star3', 'Star4', 'No_of_Votes'],\n",
            "      dtype='object')\n"
          ]
        }
      ]
    },
    {
      "cell_type": "code",
      "source": [
        "pip install pyspark"
      ],
      "metadata": {
        "colab": {
          "base_uri": "https://localhost:8080/"
        },
        "id": "ZW6vzmFICIJC",
        "outputId": "ceb7be8b-8a23-4b42-898e-aa02d65ffe65"
      },
      "execution_count": null,
      "outputs": [
        {
          "output_type": "stream",
          "name": "stdout",
          "text": [
            "Requirement already satisfied: pyspark in /usr/local/lib/python3.10/dist-packages (3.5.3)\n",
            "Requirement already satisfied: py4j==0.10.9.7 in /usr/local/lib/python3.10/dist-packages (from pyspark) (0.10.9.7)\n"
          ]
        }
      ]
    },
    {
      "cell_type": "code",
      "source": [
        "import numpy as np\n",
        "import pandas as pd\n",
        "from sklearn.decomposition import TruncatedSVD\n",
        "from sklearn.metrics.pairwise import cosine_similarity\n",
        "\n",
        "# Step 1: One-Hot Encoding of 'Genre' and 'Stars'\n",
        "df_cleaned = df_cleaned.dropna(subset=['IMDB_Rating', 'No_of_Votes', 'Genre', 'Star1', 'Star2', 'Star3', 'Star4'])\n",
        "\n",
        "# One-hot encode 'Genre' column\n",
        "genres_encoded = df_cleaned['Genre'].str.get_dummies(sep=', ')\n",
        "\n",
        "# One-hot encode 'Stars' (Star1, Star2, Star3, Star4)\n",
        "stars_encoded = pd.get_dummies(df_cleaned[['Star1', 'Star2', 'Star3', 'Star4']].stack()).groupby(level=0).sum()\n",
        "\n",
        "\n",
        "# Combine all features (IMDBRating, No_of_Votes, One-hot Encoded Genres, and Stars)\n",
        "interaction_matrix = pd.concat([df_cleaned[['IMDB_Rating', 'No_of_Votes']], genres_encoded, stars_encoded], axis=1)\n",
        "\n",
        "# Step 2: Apply SVD\n",
        "svd = TruncatedSVD(n_components=100)  # Set a large n_components to capture more latent features\n",
        "matrix_factorized = svd.fit_transform(interaction_matrix)\n",
        "\n",
        "# Step 3: Reconstruct the matrix\n",
        "reconstructed_matrix = np.dot(matrix_factorized, svd.components_)\n",
        "\n",
        "# Convert back to DataFrame for interpretation\n",
        "reconstructed_df = pd.DataFrame(reconstructed_matrix, index=df_cleaned['Series_Title'], columns=interaction_matrix.columns)\n",
        "\n",
        "# Step 4: Compute Cosine Similarity between all items (TV series)\n",
        "item_similarity = cosine_similarity(reconstructed_matrix)\n",
        "\n",
        "# Convert to DataFrame for easy lookup\n",
        "item_similarity_df = pd.DataFrame(item_similarity, index=df_cleaned['Series_Title'], columns=df_cleaned['Series_Title'])\n",
        "\n",
        "# Step 5: Define a function to get recommendations based on similarity scores\n",
        "def get_svd_recommendations(title, top_n=10):\n",
        "    # Check if the title exists in the dataset\n",
        "    if title not in item_similarity_df.index:\n",
        "        print(f\"Title '{title}' not found in the dataset.\")\n",
        "        return []\n",
        "\n",
        "    # Get similarity scores for the given title\n",
        "    sim_scores = item_similarity_df[title]\n",
        "\n",
        "    # Sort by similarity scores and get the top N most similar titles\n",
        "    sim_scores = sim_scores.sort_values(ascending=False)\n",
        "\n",
        "    # Exclude the input title itself from the recommendations\n",
        "    recommended_titles = sim_scores.index[1:top_n + 1].tolist()\n",
        "\n",
        "    return recommended_titles\n",
        "\n",
        "# Example usage\n",
        "title = \"Friends\"  # Replace with any series title from your dataset\n",
        "print(f\"SVD-based Recommendations for '{title}':\")\n",
        "print(get_svd_recommendations(title, top_n=10))\n"
      ],
      "metadata": {
        "colab": {
          "base_uri": "https://localhost:8080/"
        },
        "id": "IqIUeSj3ZHdW",
        "outputId": "8c067c64-60fa-45b4-c138-1ad930cab0f5"
      },
      "execution_count": null,
      "outputs": [
        {
          "output_type": "stream",
          "name": "stdout",
          "text": [
            "SVD-based Recommendations for 'Friends':\n",
            "['The Big Bang Theory', 'Stranger Things', 'Sherlock', 'The Walking Dead', 'How I Met Your Mother', 'Dexter', 'Breaking Bad', 'Game of Thrones', 'Lost', 'Prison Break']\n"
          ]
        }
      ]
    },
    {
      "cell_type": "code",
      "source": [
        "title = \"Friends\"  # Example show for evaluation\n",
        "print_recommendations(title, top_n=10)\n"
      ],
      "metadata": {
        "colab": {
          "base_uri": "https://localhost:8080/"
        },
        "id": "ysaxOpPvbLO7",
        "outputId": "ca05c9e3-d4c3-4c4f-ddeb-6cba08d3ba99"
      },
      "execution_count": null,
      "outputs": [
        {
          "output_type": "stream",
          "name": "stdout",
          "text": [
            "Generating recommendations for: Friends\n",
            "\n",
            "Content-Based Recommendations:\n",
            "1. Friends\n",
            "2. Mars\n",
            "3. Magic City\n",
            "4. Kyaputen Tsubasa\n",
            "5. Bonanza\n",
            "6. Kureimoa\n",
            "7. Bewitched\n",
            "8. SGU Stargate Universe\n",
            "9. Mr. Robot\n",
            "10. The Royals\n",
            "\n",
            "Popularity-Based Recommendations:\n",
            "1. The Chosen\n",
            "2. Breaking Bad\n",
            "3. The Filthy Frank Show\n",
            "4. Koombiyo\n",
            "5. Scam 1992: The Harshad Mehta Story\n",
            "6. Game of Thrones\n",
            "7. The Wire\n",
            "8. Critical Role\n",
            "9. Rick and Morty\n",
            "10. The Sopranos\n",
            "\n",
            "Generating recommendations for: Friends\n",
            "Content-based recommendations: ['Friends', 'Mars', 'Magic City', 'Kyaputen Tsubasa', 'Bonanza', 'Kureimoa', 'Bewitched', 'SGU Stargate Universe', 'Mr. Robot', 'The Royals']\n",
            "Popularity-based recommendations: ['The Chosen', 'Breaking Bad', 'The Filthy Frank Show', 'Koombiyo', 'Scam 1992: The Harshad Mehta Story', 'Game of Thrones', 'The Wire', 'Critical Role', 'Rick and Morty', 'The Sopranos']\n",
            "Hybrid recommendation scores: [('Friends', 5.0), ('The Chosen', 5.0), ('Mars', 4.5), ('Breaking Bad', 4.5), ('Magic City', 4.0), ('The Filthy Frank Show', 4.0), ('Kyaputen Tsubasa', 3.5), ('Koombiyo', 3.5), ('Bonanza', 3.0), ('Scam 1992: The Harshad Mehta Story', 3.0), ('Kureimoa', 2.5), ('Game of Thrones', 2.5), ('Bewitched', 2.0), ('The Wire', 2.0), ('SGU Stargate Universe', 1.5), ('Critical Role', 1.5), ('Mr. Robot', 1.0), ('Rick and Morty', 1.0), ('The Royals', 0.5), ('The Sopranos', 0.5)]\n",
            "\n",
            "Hybrid Recommendations:\n",
            "1. Friends\n",
            "2. The Chosen\n",
            "3. Mars\n",
            "4. Breaking Bad\n",
            "5. Magic City\n",
            "6. The Filthy Frank Show\n",
            "7. Kyaputen Tsubasa\n",
            "8. Koombiyo\n",
            "9. Bonanza\n",
            "10. Scam 1992: The Harshad Mehta Story\n"
          ]
        }
      ]
    },
    {
      "cell_type": "code",
      "source": [
        "# Evaluation function for content-based recommendation system\n",
        "def evaluate_content_based_recommendations(test_set, top_n=10):\n",
        "    precision_scores = []\n",
        "    recall_scores = []\n",
        "\n",
        "    for user, actual_watched in test_set:\n",
        "        predicted_watched = get_content_based_recommendations(user, top_n=top_n)\n",
        "\n",
        "        relevant_items = set([show.lower().strip() for show in actual_watched])\n",
        "        recommended_items = set([show.lower().strip() for show in predicted_watched])\n",
        "\n",
        "        num_relevant_recommended = len(relevant_items.intersection(recommended_items))\n",
        "        precision = num_relevant_recommended / top_n if top_n > 0 else 0\n",
        "        recall = num_relevant_recommended / len(relevant_items) if len(relevant_items) > 0 else 0\n",
        "\n",
        "        precision_scores.append(precision)\n",
        "        recall_scores.append(recall)\n",
        "\n",
        "    mean_precision = np.mean(precision_scores)\n",
        "    mean_recall = np.mean(recall_scores)\n",
        "\n",
        "    return mean_precision, mean_recall\n",
        "\n",
        "# Evaluate content-based recommendations\n",
        "precision_content, recall_content = evaluate_content_based_recommendations(test_set, top_n=10)\n",
        "print(f'\\nContent-Based Precision@10: {precision_content:.4f}')\n",
        "print(f'Content-Based Recall@10: {recall_content:.4f}')\n"
      ],
      "metadata": {
        "colab": {
          "base_uri": "https://localhost:8080/"
        },
        "id": "pvpeV9-aczUR",
        "outputId": "f694ac6f-1d2e-4cd1-9724-622669b2cdb1"
      },
      "execution_count": null,
      "outputs": [
        {
          "output_type": "stream",
          "name": "stdout",
          "text": [
            "\n",
            "Content-Based Precision@10: 0.1000\n",
            "Content-Based Recall@10: 0.3333\n"
          ]
        }
      ]
    },
    {
      "cell_type": "code",
      "source": [
        "def normalize_title(title):\n",
        "    return title.lower().strip()\n",
        "\n",
        "test_set = [\n",
        "    ('breaking bad', ['breaking bad', 'narcos', 'the wire']),\n",
        "    ('game of thrones', ['game of thrones', 'vikings', 'the last kingdom']),\n",
        "]\n",
        "\n",
        "# Ensure titles in both the test set and recommendations are normalized\n",
        "relevant_items = set([normalize_title(show) for show in actual_watched])\n",
        "recommended_items = set([normalize_title(show) for show in predicted_watched])\n"
      ],
      "metadata": {
        "colab": {
          "base_uri": "https://localhost:8080/",
          "height": 193
        },
        "id": "bpyBpyDUc7DE",
        "outputId": "1a79d5da-28e7-4af6-d3c3-c7a962ec24e7"
      },
      "execution_count": null,
      "outputs": [
        {
          "output_type": "error",
          "ename": "NameError",
          "evalue": "name 'actual_watched' is not defined",
          "traceback": [
            "\u001b[0;31m---------------------------------------------------------------------------\u001b[0m",
            "\u001b[0;31mNameError\u001b[0m                                 Traceback (most recent call last)",
            "\u001b[0;32m<ipython-input-53-71a377962762>\u001b[0m in \u001b[0;36m<cell line: 10>\u001b[0;34m()\u001b[0m\n\u001b[1;32m      8\u001b[0m \u001b[0;34m\u001b[0m\u001b[0m\n\u001b[1;32m      9\u001b[0m \u001b[0;31m# Ensure titles in both the test set and recommendations are normalized\u001b[0m\u001b[0;34m\u001b[0m\u001b[0;34m\u001b[0m\u001b[0m\n\u001b[0;32m---> 10\u001b[0;31m \u001b[0mrelevant_items\u001b[0m \u001b[0;34m=\u001b[0m \u001b[0mset\u001b[0m\u001b[0;34m(\u001b[0m\u001b[0;34m[\u001b[0m\u001b[0mnormalize_title\u001b[0m\u001b[0;34m(\u001b[0m\u001b[0mshow\u001b[0m\u001b[0;34m)\u001b[0m \u001b[0;32mfor\u001b[0m \u001b[0mshow\u001b[0m \u001b[0;32min\u001b[0m \u001b[0mactual_watched\u001b[0m\u001b[0;34m]\u001b[0m\u001b[0;34m)\u001b[0m\u001b[0;34m\u001b[0m\u001b[0;34m\u001b[0m\u001b[0m\n\u001b[0m\u001b[1;32m     11\u001b[0m \u001b[0mrecommended_items\u001b[0m \u001b[0;34m=\u001b[0m \u001b[0mset\u001b[0m\u001b[0;34m(\u001b[0m\u001b[0;34m[\u001b[0m\u001b[0mnormalize_title\u001b[0m\u001b[0;34m(\u001b[0m\u001b[0mshow\u001b[0m\u001b[0;34m)\u001b[0m \u001b[0;32mfor\u001b[0m \u001b[0mshow\u001b[0m \u001b[0;32min\u001b[0m \u001b[0mpredicted_watched\u001b[0m\u001b[0;34m]\u001b[0m\u001b[0;34m)\u001b[0m\u001b[0;34m\u001b[0m\u001b[0;34m\u001b[0m\u001b[0m\n",
            "\u001b[0;31mNameError\u001b[0m: name 'actual_watched' is not defined"
          ]
        }
      ]
    },
    {
      "cell_type": "code",
      "source": [
        "import numpy as np\n",
        "from sklearn.metrics import confusion_matrix\n",
        "\n",
        "# Function to get content-based recommendations using cosine similarity\n",
        "def get_content_based_recommendations(title, top_n=10):\n",
        "    idx = df_cleaned.index[df_cleaned['Series_Title'] == title].tolist()\n",
        "\n",
        "    # Debug: Print if title is not found in the dataset\n",
        "    if not idx:\n",
        "        print(f\"Title '{title}' not found in dataset for content-based recommendations.\")\n",
        "        return []\n",
        "\n",
        "    idx = idx[0]  # Get the first match if there are multiple\n",
        "    sim_scores = list(enumerate(cosine_sim[idx]))\n",
        "    sim_scores = sorted(sim_scores, key=lambda x: x[1], reverse=True)\n",
        "    top_similar_shows = sim_scores[:top_n]\n",
        "\n",
        "    return [df_cleaned['Series_Title'].iloc[i[0]] for i in top_similar_shows]\n",
        "\n",
        "# Function to get popularity-based recommendations\n",
        "def get_popularity_based_recommendations(user=None, top_n=10):\n",
        "    sorted_shows = df_cleaned.sort_values(by=['IMDB_Rating', 'No_of_Votes'], ascending=False)\n",
        "    return sorted_shows['Series_Title'].head(top_n).values.tolist()\n",
        "\n",
        "# Hybrid recommendation combining content and popularity-based recommendations\n",
        "def get_hybrid_recommendations(user_show, top_n=10, content_weight=0.7, popularity_weight=0.3):\n",
        "    print(f\"\\nGenerating recommendations for: {user_show}\")\n",
        "\n",
        "    # Get content-based and popularity-based recommendations\n",
        "    content_recommendations = get_content_based_recommendations(user_show, top_n=top_n)\n",
        "    popularity_recommendations = get_popularity_based_recommendations(top_n=top_n)\n",
        "\n",
        "    print(f\"Content-based recommendations: {content_recommendations}\")\n",
        "    print(f\"Popularity-based recommendations: {popularity_recommendations}\")\n",
        "\n",
        "    # Create a combined score by weighting content and popularity\n",
        "    recommendations = {}\n",
        "    for i, show in enumerate(content_recommendations):\n",
        "        recommendations[show] = recommendations.get(show, 0) + content_weight * (top_n - i)\n",
        "\n",
        "    for i, show in enumerate(popularity_recommendations):\n",
        "        recommendations[show] = recommendations.get(show, 0) + popularity_weight * (top_n - i)\n",
        "\n",
        "    # Sort recommendations by the combined score\n",
        "    sorted_recommendations = sorted(recommendations.items(), key=lambda x: x[1], reverse=True)\n",
        "\n",
        "    # Debug: Print combined recommendation scores\n",
        "    print(f\"Hybrid recommendation scores: {sorted_recommendations}\")\n",
        "\n",
        "    # Return top N recommended shows\n",
        "    return [show for show, score in sorted_recommendations[:top_n]]\n",
        "\n",
        "# Function to calculate the confusion matrix\n",
        "def calculate_confusion_matrix(actual_watched, predicted_watched, all_shows):\n",
        "    relevant_items = set([show.lower().strip() for show in actual_watched])\n",
        "    recommended_items = set([show.lower().strip() for show in predicted_watched])\n",
        "\n",
        "    true_positives = len(relevant_items.intersection(recommended_items))\n",
        "    false_positives = len(recommended_items.difference(relevant_items))\n",
        "    false_negatives = len(relevant_items.difference(recommended_items))\n",
        "    true_negatives = len(all_shows) - (true_positives + false_positives + false_negatives)\n",
        "\n",
        "    return np.array([[true_positives, false_positives], [false_negatives, true_negatives]])\n",
        "\n",
        "# Function to evaluate a recommendation model (content-based, popularity-based, or hybrid)\n",
        "def evaluate_model_confusion_matrix(model_func, test_set, all_shows, top_n=10, **model_params):\n",
        "    confusion_matrices = []\n",
        "\n",
        "    for user, actual_watched in test_set:\n",
        "        # Get predicted recommendations using the given model function\n",
        "        predicted_watched = model_func(user, top_n=top_n, **model_params)\n",
        "\n",
        "        # Calculate confusion matrix for each user\n",
        "        cm = calculate_confusion_matrix(actual_watched, predicted_watched, all_shows)\n",
        "        confusion_matrices.append(cm)\n",
        "\n",
        "    # Return averaged confusion matrix\n",
        "    return np.mean(confusion_matrices, axis=0)\n",
        "\n",
        "# Test set format: [(user, actual_watched_list), ...]\n",
        "test_set = [\n",
        "    ('breaking bad', ['breaking bad', 'narcos', 'the wire']),\n",
        "    ('game of thrones', ['game of thrones', 'vikings', 'the last kingdom']),\n",
        "]\n",
        "\n",
        "# List of all shows in the dataset\n",
        "all_shows = df_cleaned['Series_Title'].str.lower().tolist()\n",
        "\n",
        "# Evaluate and print confusion matrices for each model\n",
        "\n",
        "# Confusion matrix for Content-Based Recommendations\n",
        "content_based_cm = evaluate_model_confusion_matrix(get_content_based_recommendations, test_set, all_shows, top_n=10)\n",
        "print(f\"Content-Based Confusion Matrix:\\n{content_based_cm}\")\n",
        "\n",
        "# Confusion matrix for Popularity-Based Recommendations\n",
        "popularity_based_cm = evaluate_model_confusion_matrix(get_popularity_based_recommendations, test_set, all_shows, top_n=10)\n",
        "print(f\"Popularity-Based Confusion Matrix:\\n{popularity_based_cm}\")\n",
        "\n",
        "\n"
      ],
      "metadata": {
        "colab": {
          "base_uri": "https://localhost:8080/"
        },
        "id": "FItJXbZ-dyG8",
        "outputId": "725b43ce-aca7-4aa2-d90e-bec1ebdf8887"
      },
      "execution_count": null,
      "outputs": [
        {
          "output_type": "stream",
          "name": "stdout",
          "text": [
            "Title 'breaking bad' not found in dataset for content-based recommendations.\n",
            "Title 'game of thrones' not found in dataset for content-based recommendations.\n",
            "Content-Based Confusion Matrix:\n",
            "[[   0.    0.]\n",
            " [   3. 1992.]]\n",
            "Popularity-Based Confusion Matrix:\n",
            "[[1.5000e+00 8.5000e+00]\n",
            " [1.5000e+00 1.9835e+03]]\n"
          ]
        }
      ]
    },
    {
      "cell_type": "code",
      "source": [
        "import numpy as np\n",
        "import pandas as pd\n",
        "from sklearn.decomposition import TruncatedSVD\n",
        "from sklearn.metrics.pairwise import cosine_similarity\n",
        "from sklearn.metrics import precision_score, recall_score\n",
        "\n",
        "# Step 1: One-Hot Encoding of 'Genre' and 'Stars'\n",
        "df_cleaned = df_cleaned.dropna(subset=['IMDB_Rating', 'No_of_Votes', 'Genre', 'Star1', 'Star2', 'Star3', 'Star4'])\n",
        "\n",
        "# One-hot encode 'Genre' column\n",
        "genres_encoded = df_cleaned['Genre'].str.get_dummies(sep=', ')\n",
        "\n",
        "# One-hot encode 'Stars' (Star1, Star2, Star3, Star4)\n",
        "stars_encoded = pd.get_dummies(df_cleaned[['Star1', 'Star2', 'Star3', 'Star4']].stack()).groupby(level=0).sum()\n",
        "\n",
        "# Combine all features (IMDBRating, No_of_Votes, One-hot Encoded Genres, and Stars)\n",
        "interaction_matrix = pd.concat([df_cleaned[['IMDB_Rating', 'No_of_Votes']], genres_encoded, stars_encoded], axis=1)\n",
        "\n",
        "# Step 2: Apply SVD\n",
        "svd = TruncatedSVD(n_components=100)  # Set a large n_components to capture more latent features\n",
        "matrix_factorized = svd.fit_transform(interaction_matrix)\n",
        "\n",
        "# Step 3: Reconstruct the matrix\n",
        "reconstructed_matrix = np.dot(matrix_factorized, svd.components_)\n",
        "\n",
        "# Convert back to DataFrame for interpretation\n",
        "reconstructed_df = pd.DataFrame(reconstructed_matrix, index=df_cleaned['Series_Title'], columns=interaction_matrix.columns)\n",
        "\n",
        "# Step 4: Compute Cosine Similarity between all items (TV series)\n",
        "item_similarity = cosine_similarity(reconstructed_matrix)\n",
        "\n",
        "# Convert to DataFrame for easy lookup\n",
        "item_similarity_df = pd.DataFrame(item_similarity, index=df_cleaned['Series_Title'], columns=df_cleaned['Series_Title'])\n",
        "\n",
        "# Step 5: Define a function to get recommendations based on similarity scores\n",
        "def get_svd_recommendations(title, top_n=10):\n",
        "    # Check if the title exists in the dataset\n",
        "    if title not in item_similarity_df.index:\n",
        "        print(f\"Title '{title}' not found in the dataset.\")\n",
        "        return []\n",
        "\n",
        "    # Get similarity scores for the given title\n",
        "    sim_scores = item_similarity_df[title]\n",
        "\n",
        "    # Sort by similarity scores and get the top N most similar titles\n",
        "    sim_scores = sim_scores.sort_values(ascending=False)\n",
        "\n",
        "    # Exclude the input title itself from the recommendations\n",
        "    recommended_titles = sim_scores.index[1:top_n + 1].tolist()\n",
        "\n",
        "    return recommended_titles\n",
        "\n",
        "# Step 6: Precision and Recall Calculation\n",
        "def evaluate_precision_recall_svd(test_set, top_n=10):\n",
        "    precision_list = []\n",
        "    recall_list = []\n",
        "\n",
        "    for user, actual_watched in test_set:\n",
        "        # Generate recommendations for the user using SVD\n",
        "        predicted_watched = get_svd_recommendations(user, top_n=top_n)\n",
        "\n",
        "        # Create binary arrays for actual and predicted shows\n",
        "        actual_watched_set = set(actual_watched)\n",
        "        predicted_watched_set = set(predicted_watched)\n",
        "\n",
        "        # True Positives (relevant and recommended)\n",
        "        true_positives = actual_watched_set.intersection(predicted_watched_set)\n",
        "        # False Positives (recommended but not relevant)\n",
        "        false_positives = predicted_watched_set.difference(actual_watched_set)\n",
        "        # False Negatives (relevant but not recommended)\n",
        "        false_negatives = actual_watched_set.difference(predicted_watched_set)\n",
        "\n",
        "        # Calculate precision and recall\n",
        "        precision = len(true_positives) / (len(true_positives) + len(false_positives)) if (len(true_positives) + len(false_positives)) > 0 else 0\n",
        "        recall = len(true_positives) / (len(true_positives) + len(false_negatives)) if (len(true_positives) + len(false_negatives)) > 0 else 0\n",
        "\n",
        "        precision_list.append(precision)\n",
        "        recall_list.append(recall)\n",
        "\n",
        "    # Average precision and recall\n",
        "    avg_precision = np.mean(precision_list)\n",
        "    avg_recall = np.mean(recall_list)\n",
        "\n",
        "    return avg_precision, avg_recall\n",
        "\n",
        "# Example usage with a test set (user, actual_watched shows)\n",
        "test_set = [\n",
        "    ('Breaking Bad', ['Breaking Bad', 'Game of Thrones', 'The Sopranos']),\n",
        "    ('Game of Thrones', ['Game of Thrones', 'Breaking Bad', 'The Wire']),\n",
        "    # Add more test cases\n",
        "]\n",
        "\n",
        "# Evaluate the SVD-based recommendations\n",
        "precision, recall = evaluate_precision_recall_svd(test_set, top_n=10)\n",
        "print(f\"SVD-based Precision@10: {precision:.4f}\")\n",
        "print(f\"SVD-based Recall@10: {recall:.4f}\")\n",
        "\n",
        "# Example recommendations\n",
        "title = \"Breaking Bad\"\n",
        "print(f\"SVD-based Recommendations for '{title}':\")\n",
        "print(get_svd_recommendations(title, top_n=10))\n"
      ],
      "metadata": {
        "colab": {
          "base_uri": "https://localhost:8080/"
        },
        "id": "u_aufjtwIorz",
        "outputId": "8e36d6d1-b252-4444-89a7-a4011fe59439"
      },
      "execution_count": null,
      "outputs": [
        {
          "output_type": "stream",
          "name": "stdout",
          "text": [
            "SVD-based Precision@10: 0.0000\n",
            "SVD-based Recall@10: 0.0000\n",
            "SVD-based Recommendations for 'Breaking Bad':\n",
            "['Your Honor', 'Fargo', 'Mindhunter', 'Ozark', 'Mr. Robot', 'The Wire', 'Gomorra: La serie', 'Babylon Berlin', 'The Fall', 'Koombiyo']\n"
          ]
        }
      ]
    },
    {
      "cell_type": "code",
      "source": [
        "import matplotlib.pyplot as plt\n",
        "import seaborn as sns\n",
        "import pandas as pd\n",
        "\n",
        "# Step 1: Define the data for Precision@10 and Recall@10\n",
        "metrics_data = {\n",
        "    'Model': ['SVD', 'SVD', 'Hybrid', 'Hybrid'],\n",
        "    'Metric': ['Precision@10', 'Recall@10', 'Precision@10', 'Recall@10'],\n",
        "    'Score': [0.1000, 0.3333, 0.1500, 0.5000]\n",
        "}\n",
        "\n",
        "# Step 2: Create a DataFrame from the metrics data\n",
        "df_metrics = pd.DataFrame(metrics_data)\n",
        "\n",
        "# Step 3: Set up the matplotlib figure and seaborn style\n",
        "plt.figure(figsize=(8, 6))\n",
        "sns.set(style=\"whitegrid\")\n",
        "\n",
        "# Step 4: Create a bar plot to visualize Precision@10 and Recall@10 for both models\n",
        "sns.barplot(x='Metric', y='Score', hue='Model', data=df_metrics, palette='Set2')\n",
        "\n",
        "# Step 5: Add labels and title\n",
        "plt.title('Precision@10 and Recall@10 Comparison: SVD vs Hybrid Model')\n",
        "plt.ylabel('Score')\n",
        "plt.ylim(0, 1)\n",
        "\n",
        "# Step 6: Display the plot\n",
        "plt.show()\n"
      ],
      "metadata": {
        "colab": {
          "base_uri": "https://localhost:8080/",
          "height": 573
        },
        "id": "UzlRzqfy0XMw",
        "outputId": "2b452650-926a-4477-eb15-eab6da160b73"
      },
      "execution_count": null,
      "outputs": [
        {
          "output_type": "display_data",
          "data": {
            "text/plain": [
              "<Figure size 800x600 with 1 Axes>"
            ],
            "image/png": "[encoded data removed]"
          },
          "metadata": {}
        }
      ]
    },
    {
      "cell_type": "code",
      "source": [
        "import numpy as np\n",
        "from sklearn.metrics import mean_squared_error, mean_absolute_error\n",
        "\n",
        "# Function to compute RMSE\n",
        "def calculate_rmse(predictions, actuals):\n",
        "    return np.sqrt(mean_squared_error(actuals, predictions))\n",
        "\n",
        "# Function to compute MAE\n",
        "def calculate_mae(predictions, actuals):\n",
        "    return mean_absolute_error(actuals, predictions)\n",
        "\n",
        "# Function to compute MRR\n",
        "def calculate_mrr(recommended_items, ground_truth_item):\n",
        "    try:\n",
        "        rank = recommended_items.index(ground_truth_item) + 1\n",
        "        return 1 / rank\n",
        "    except ValueError:\n",
        "        return 0  # Return 0 if ground truth item not in recommended list\n",
        "\n",
        "# Example test data with columns 'Series_Title' and 'Actual_Rating'\n",
        "# Here, 'Actual_Rating' is the ground truth user rating for each series\n",
        "test_data = pd.DataFrame({\n",
        "    'Series_Title': ['Breaking Bad', 'The Office', 'Friends', 'Game of Thrones', 'Stranger Things'],\n",
        "    'Actual_Rating': [9.5, 8.9, 9.0, 8.8, 8.7]\n",
        "})\n",
        "\n",
        "# Placeholder lists to store actual and predicted ratings for RMSE and MAE calculation\n",
        "predicted_ratings = []\n",
        "actual_ratings = []\n",
        "mrr_scores = []\n",
        "\n",
        "# Iterate through each item in the test set\n",
        "for _, row in test_data.iterrows():\n",
        "    title = row['Series_Title']\n",
        "    actual_rating = row['Actual_Rating']\n",
        "\n",
        "    # Get recommendations for the title (excluding itself from recommendations)\n",
        "    recommended_titles = get_content_based_recommendations(title, top_n=10)\n",
        "\n",
        "    # Placeholder predicted rating (for demonstration, assuming avg rating of top recommended items)\n",
        "    predicted_rating = np.mean([test_data.loc[test_data['Series_Title'] == t, 'Actual_Rating'].values[0]\n",
        "                                for t in recommended_titles if t in test_data['Series_Title'].values])\n",
        "\n",
        "    # Store ratings for RMSE and MAE calculation\n",
        "    predicted_ratings.append(predicted_rating)\n",
        "    actual_ratings.append(actual_rating)\n",
        "\n",
        "    # Compute MRR for this item\n",
        "    mrr_score = calculate_mrr(recommended_titles, title)\n",
        "    mrr_scores.append(mrr_score)\n",
        "\n",
        "# Calculate metrics\n",
        "rmse = calculate_rmse(predicted_ratings, actual_ratings)\n",
        "mae = calculate_mae(predicted_ratings, actual_ratings)\n",
        "mrr = np.mean(mrr_scores)\n",
        "\n",
        "print(f\"Content-Based Recommendations - RMSE: {rmse:.4f}, MAE: {mae:.4f}, MRR: {mrr:.4f}\")\n"
      ],
      "metadata": {
        "colab": {
          "base_uri": "https://localhost:8080/"
        },
        "id": "5XzlrSdzDByo",
        "outputId": "176b7693-676b-4302-c577-f14b341d99f7"
      },
      "execution_count": null,
      "outputs": [
        {
          "output_type": "stream",
          "name": "stdout",
          "text": [
            "Content-Based Recommendations - RMSE: 0.0000, MAE: 0.0000, MRR: 1.0000\n"
          ]
        }
      ]
    },
    {
      "cell_type": "code",
      "source": [
        "import matplotlib.pyplot as plt\n",
        "\n",
        "# Hybrid Model Precision and Recall\n",
        "precision_hybrid = 0.15\n",
        "recall_hybrid = 0.50\n",
        "\n",
        "plt.figure(figsize=(6, 4))\n",
        "plt.bar(['Precision@10', 'Recall@10'], [precision_hybrid, recall_hybrid], color=['skyblue', 'salmon'])\n",
        "plt.title('Hybrid Model Performance')\n",
        "plt.ylim(0, 1)\n",
        "plt.ylabel('Score')\n",
        "plt.show()\n"
      ],
      "metadata": {
        "colab": {
          "base_uri": "https://localhost:8080/",
          "height": 391
        },
        "id": "GyL6u6acQ44v",
        "outputId": "9401b06a-958a-43a2-d858-2cc3d4f524b2"
      },
      "execution_count": null,
      "outputs": [
        {
          "output_type": "display_data",
          "data": {
            "text/plain": [
              "<Figure size 600x400 with 1 Axes>"
            ],
            "image/png": "[encoded data removed]"
          },
          "metadata": {}
        }
      ]
    },
    {
      "cell_type": "code",
      "source": [
        "# Content-Based Model Precision and Recall\n",
        "precision_content = 0.10\n",
        "recall_content = 0.23\n",
        "\n",
        "plt.figure(figsize=(6, 4))\n",
        "plt.bar(['Precision', 'Recall'], [precision_content, recall_content], color=['skyblue', 'salmon'])\n",
        "plt.title('Content-Based Model Performance')\n",
        "plt.ylim(0, 1)\n",
        "plt.ylabel('Score')\n",
        "plt.show()\n"
      ],
      "metadata": {
        "colab": {
          "base_uri": "https://localhost:8080/",
          "height": 391
        },
        "id": "Cgaz5BTnQ7yi",
        "outputId": "2448bd5b-d2d3-4d74-ea1a-6a5af5c7ca8e"
      },
      "execution_count": null,
      "outputs": [
        {
          "output_type": "display_data",
          "data": {
            "text/plain": [
              "<Figure size 600x400 with 1 Axes>"
            ],
            "image/png": "[encoded data removed]"
          },
          "metadata": {}
        }
      ]
    },
    {
      "cell_type": "code",
      "source": [
        "# Popularity-Based Model Precision and Recall\n",
        "precision_popularity = 0.10\n",
        "recall_popularity = 0.33\n",
        "\n",
        "plt.figure(figsize=(6, 4))\n",
        "plt.bar(['Precision', 'Recall'], [precision_popularity, recall_popularity], color=['skyblue', 'salmon'])\n",
        "plt.title('Popularity-Based Model Performance')\n",
        "plt.ylim(0, 1)\n",
        "plt.ylabel('Score')\n",
        "plt.show()\n"
      ],
      "metadata": {
        "colab": {
          "base_uri": "https://localhost:8080/",
          "height": 391
        },
        "id": "DK1JmPz-Q_ZD",
        "outputId": "7a9a0133-752e-4f83-cc7a-8aacd490fe2a"
      },
      "execution_count": null,
      "outputs": [
        {
          "output_type": "display_data",
          "data": {
            "text/plain": [
              "<Figure size 600x400 with 1 Axes>"
            ],
            "image/png": "[encoded data removed]"
          },
          "metadata": {}
        }
      ]
    },
    {
      "cell_type": "code",
      "source": [
        "# SVD Model Precision@10 and Content-Based Recall@10\n",
        "precision_svd = 0.10\n",
        "recall_svd = 0.33\n",
        "\n",
        "plt.figure(figsize=(6, 4))\n",
        "plt.bar(['Precision@10', 'Content-Base Recall@10'], [precision_svd, recall_svd], color=['skyblue', 'salmon'])\n",
        "plt.title('SVD Model Performance')\n",
        "plt.ylim(0, 1)\n",
        "plt.ylabel('Score')\n",
        "plt.show()\n",
        "\n",
        "import numpy as np\n",
        "\n",
        "# Data for all models\n",
        "models = ['Hybrid', 'Content-Based', 'Popularity-Based', 'SVD']\n",
        "precisions = [0.15, 0.10, 0.10, 0.10]\n",
        "recalls = [0.50, 0.23, 0.33, 0.33]\n",
        "\n",
        "# Set up the figure\n",
        "x = np.arange(len(models))\n",
        "width = 0.35\n",
        "\n",
        "fig, ax = plt.subplots(figsize=(10, 6))\n",
        "precision_bars = ax.bar(x - width/2, precisions, width, label='Precision', color='skyblue')\n",
        "recall_bars = ax.bar(x + width/2, recalls, width, label='Recall', color='salmon')\n",
        "\n",
        "# Add some text for labels, title, and custom x-axis tick labels, etc.\n",
        "ax.set_xlabel('Models')\n",
        "ax.set_ylabel('Score')\n",
        "ax.set_title('Performance Comparison of All Models')\n",
        "ax.set_xticks(x)\n",
        "ax.set_xticklabels(models)\n",
        "ax.set_ylim(0, 1)\n",
        "ax.legend()\n",
        "\n",
        "plt.show()"
      ],
      "metadata": {
        "colab": {
          "base_uri": "https://localhost:8080/",
          "height": 938
        },
        "id": "ZKU5JNofRFO-",
        "outputId": "6e6fa46d-ed13-4b81-e3a5-6a9329721ecc"
      },
      "execution_count": null,
      "outputs": [
        {
          "output_type": "display_data",
          "data": {
            "text/plain": [
              "<Figure size 600x400 with 1 Axes>"
            ],
            "image/png": "[encoded data removed]"
          },
          "metadata": {}
        },
        {
          "output_type": "display_data",
          "data": {
            "text/plain": [
              "<Figure size 1000x600 with 1 Axes>"
            ],
            "image/png": "[encoded data removed]"
          },
          "metadata": {}
        }
      ]
    },
    {
      "cell_type": "code",
      "source": [
        "# Scatter Plot for Precision and Recall of all models\n",
        "plt.figure(figsize=(10, 6))\n",
        "plt.scatter(models, precisions, color='blue', label='Precision', s=100)\n",
        "plt.scatter(models, recalls, color='red', label='Recall', s=100)\n",
        "\n",
        "# Add labels and title\n",
        "plt.xlabel('Models')\n",
        "plt.ylabel('Score')\n",
        "plt.title('Scatter Plot of Precision and Recall for All Models')\n",
        "plt.ylim(0, 1)\n",
        "plt.legend()\n",
        "plt.show()\n"
      ],
      "metadata": {
        "colab": {
          "base_uri": "https://localhost:8080/",
          "height": 564
        },
        "id": "CZZELDo_RY5Q",
        "outputId": "0e4d9d05-b17a-47e3-eccf-fcf40d9bfe9d"
      },
      "execution_count": null,
      "outputs": [
        {
          "output_type": "display_data",
          "data": {
            "text/plain": [
              "<Figure size 1000x600 with 1 Axes>"
            ],
            "image/png": "[encoded data removed]"
          },
          "metadata": {}
        }
      ]
    },
    {
      "cell_type": "code",
      "source": [
        "# Line Graph for Precision and Recall of all models\n",
        "plt.figure(figsize=(10, 6))\n",
        "plt.plot(models, precisions, marker='o', color='blue', linestyle='-', label='Precision')\n",
        "plt.plot(models, recalls, marker='o', color='red', linestyle='-', label='Recall')\n",
        "\n",
        "# Add labels, title, and legend\n",
        "plt.xlabel('Models')\n",
        "plt.ylabel('Score')\n",
        "plt.title('Line Graph of Precision and Recall for All Models')\n",
        "plt.ylim(0, 1)\n",
        "plt.legend()\n",
        "plt.show()\n"
      ],
      "metadata": {
        "colab": {
          "base_uri": "https://localhost:8080/",
          "height": 564
        },
        "id": "sDnf45r9Rbto",
        "outputId": "78e0e040-361e-4651-b82c-cc64915062ad"
      },
      "execution_count": null,
      "outputs": [
        {
          "output_type": "display_data",
          "data": {
            "text/plain": [
              "<Figure size 1000x600 with 1 Axes>"
            ],
            "image/png": "[encoded data removed]"
          },
          "metadata": {}
        }
      ]
    }
  ]
}